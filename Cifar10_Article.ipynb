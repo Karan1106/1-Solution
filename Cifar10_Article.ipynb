{
  "nbformat": 4,
  "nbformat_minor": 0,
  "metadata": {
    "colab": {
      "name": "Cifar10 Article.ipynb",
      "provenance": [],
      "collapsed_sections": [
        "2knkqNr8wbFf",
        "IFw5ZdV8xjPr",
        "pKGQz0dmx_R1",
        "-iWY4G_zyKoZ",
        "LdgHoL_sLYBK",
        "8XubRkz2OWwD",
        "C-WMKwlqz5MP",
        "_kCh4V7d2YYH"
      ],
      "mount_file_id": "1ZJ9F-DRbQ9Cw4chhaftWuK_KYsmzqjVR",
      "authorship_tag": "ABX9TyNOCn4yN3hGsh6sLXSu+OnQ",
      "include_colab_link": true
    },
    "kernelspec": {
      "name": "python3",
      "display_name": "Python 3"
    },
    "accelerator": "GPU"
  },
  "cells": [
    {
      "cell_type": "markdown",
      "metadata": {
        "id": "view-in-github",
        "colab_type": "text"
      },
      "source": [
        "<a href=\"https://colab.research.google.com/github/Karan1106/1-Solution/blob/master/Cifar10_Article.ipynb\" target=\"_parent\"><img src=\"https://colab.research.google.com/assets/colab-badge.svg\" alt=\"Open In Colab\"/></a>"
      ]
    },
    {
      "cell_type": "code",
      "metadata": {
        "id": "y4tWO7zOwBJj",
        "colab_type": "code",
        "outputId": "c48348f9-2ca5-41e6-b583-3dea6992d4af",
        "colab": {
          "base_uri": "https://localhost:8080/",
          "height": 122
        }
      },
      "source": [
        "from google.colab import drive\n",
        "drive.mount('/content/gdrive')"
      ],
      "execution_count": 0,
      "outputs": [
        {
          "output_type": "stream",
          "text": [
            "Go to this URL in a browser: https://accounts.google.com/o/oauth2/auth?client_id=947318989803-6bn6qk8qdgf4n4g3pfee6491hc0brc4i.apps.googleusercontent.com&redirect_uri=urn%3aietf%3awg%3aoauth%3a2.0%3aoob&response_type=code&scope=email%20https%3a%2f%2fwww.googleapis.com%2fauth%2fdocs.test%20https%3a%2f%2fwww.googleapis.com%2fauth%2fdrive%20https%3a%2f%2fwww.googleapis.com%2fauth%2fdrive.photos.readonly%20https%3a%2f%2fwww.googleapis.com%2fauth%2fpeopleapi.readonly\n",
            "\n",
            "Enter your authorization code:\n",
            "··········\n",
            "Mounted at /content/gdrive\n"
          ],
          "name": "stdout"
        }
      ]
    },
    {
      "cell_type": "code",
      "metadata": {
        "id": "x9maodHgwC_-",
        "colab_type": "code",
        "outputId": "df5778a2-e7e4-4989-c700-cfbc0935d384",
        "colab": {
          "base_uri": "https://localhost:8080/",
          "height": 51
        }
      },
      "source": [
        "%tensorflow_version 1.x\n",
        "import tensorflow as tf\n",
        "print(tf.__version__)"
      ],
      "execution_count": 0,
      "outputs": [
        {
          "output_type": "stream",
          "text": [
            "TensorFlow 1.x selected.\n",
            "1.15.2\n"
          ],
          "name": "stdout"
        }
      ]
    },
    {
      "cell_type": "markdown",
      "metadata": {
        "id": "2knkqNr8wbFf",
        "colab_type": "text"
      },
      "source": [
        "\n",
        "\n",
        "```\n",
        "# This is formatted as code\n",
        "```\n",
        "\n",
        "#Baseline: 1 VGG Block"
      ]
    },
    {
      "cell_type": "code",
      "metadata": {
        "id": "63-w5SP1wiP7",
        "colab_type": "code",
        "outputId": "904ffe3e-100c-4a7f-e76a-410f1c765f23",
        "colab": {
          "base_uri": "https://localhost:8080/",
          "height": 34
        }
      },
      "source": [
        "import sys\n",
        "from matplotlib import pyplot\n",
        "from keras.datasets import cifar10\n",
        "from keras.utils import to_categorical\n",
        "from keras.models import Sequential\n",
        "from keras.layers import Conv2D\n",
        "from keras.layers import MaxPooling2D\n",
        "from keras.layers import Dense\n",
        "from keras.layers import Flatten\n",
        "from keras.optimizers import SGD"
      ],
      "execution_count": 0,
      "outputs": [
        {
          "output_type": "stream",
          "text": [
            "Using TensorFlow backend.\n"
          ],
          "name": "stderr"
        }
      ]
    },
    {
      "cell_type": "code",
      "metadata": {
        "id": "jPGhRlW8wptc",
        "colab_type": "code",
        "colab": {}
      },
      "source": [
        "# load train and test dataset\n",
        "def load_dataset():\n",
        "\t# load dataset\n",
        "\t(trainX, trainY), (testX, testY) = cifar10.load_data()\n",
        "\t# one hot encode target values\n",
        "\ttrainY = to_categorical(trainY)\n",
        "\ttestY = to_categorical(testY)\n",
        "\treturn trainX, trainY, testX, testY"
      ],
      "execution_count": 0,
      "outputs": []
    },
    {
      "cell_type": "code",
      "metadata": {
        "id": "7eYAu4SKws-L",
        "colab_type": "code",
        "colab": {}
      },
      "source": [
        "# scale pixels\n",
        "def prep_pixels(train, test):\n",
        "\t# convert from integers to floats\n",
        "\ttrain_norm = train.astype('float32')\n",
        "\ttest_norm = test.astype('float32')\n",
        "\t# normalize to range 0-1\n",
        "\ttrain_norm = train_norm / 255.0\n",
        "\ttest_norm = test_norm / 255.0\n",
        "\t# return normalized images\n",
        "\treturn train_norm, test_norm"
      ],
      "execution_count": 0,
      "outputs": []
    },
    {
      "cell_type": "code",
      "metadata": {
        "id": "i0DkuUaMwu4Z",
        "colab_type": "code",
        "colab": {}
      },
      "source": [
        "# define cnn model\n",
        "def define_model():\n",
        "  model = Sequential()\n",
        "  model.add(Conv2D(32, (3, 3), activation='relu', kernel_initializer='he_uniform', padding='same', input_shape=(32, 32, 3)))\n",
        "  model.add(Conv2D(32, (3, 3), activation='relu', kernel_initializer='he_uniform', padding='same'))\n",
        "  model.add(MaxPooling2D((2, 2)))\n",
        "  \n",
        "  # example output part of the model\n",
        "  model.add(Flatten())\n",
        "  model.add(Dense(128, activation='relu', kernel_initializer='he_uniform'))\n",
        "  model.add(Dense(10, activation='softmax'))\n",
        "\n",
        "  # compile model\n",
        "  opt = SGD(lr=0.001, momentum=0.9)\n",
        "  model.compile(optimizer=opt, loss='categorical_crossentropy', metrics=['accuracy'])\n",
        "  return model"
      ],
      "execution_count": 0,
      "outputs": []
    },
    {
      "cell_type": "code",
      "metadata": {
        "id": "LQsnRscKlsUY",
        "colab_type": "code",
        "outputId": "6c925869-06b4-44fe-c653-797f4f8db633",
        "colab": {
          "base_uri": "https://localhost:8080/",
          "height": 462
        }
      },
      "source": [
        "define_model().summary()"
      ],
      "execution_count": 0,
      "outputs": [
        {
          "output_type": "stream",
          "text": [
            "WARNING:tensorflow:From /tensorflow-1.15.2/python3.6/tensorflow_core/python/ops/resource_variable_ops.py:1630: calling BaseResourceVariable.__init__ (from tensorflow.python.ops.resource_variable_ops) with constraint is deprecated and will be removed in a future version.\n",
            "Instructions for updating:\n",
            "If using Keras pass *_constraint arguments to layers.\n",
            "WARNING:tensorflow:From /usr/local/lib/python3.6/dist-packages/keras/backend/tensorflow_backend.py:4070: The name tf.nn.max_pool is deprecated. Please use tf.nn.max_pool2d instead.\n",
            "\n",
            "Model: \"sequential_1\"\n",
            "_________________________________________________________________\n",
            "Layer (type)                 Output Shape              Param #   \n",
            "=================================================================\n",
            "conv2d_1 (Conv2D)            (None, 32, 32, 32)        896       \n",
            "_________________________________________________________________\n",
            "conv2d_2 (Conv2D)            (None, 32, 32, 32)        9248      \n",
            "_________________________________________________________________\n",
            "max_pooling2d_1 (MaxPooling2 (None, 16, 16, 32)        0         \n",
            "_________________________________________________________________\n",
            "flatten_1 (Flatten)          (None, 8192)              0         \n",
            "_________________________________________________________________\n",
            "dense_1 (Dense)              (None, 128)               1048704   \n",
            "_________________________________________________________________\n",
            "dense_2 (Dense)              (None, 10)                1290      \n",
            "=================================================================\n",
            "Total params: 1,060,138\n",
            "Trainable params: 1,060,138\n",
            "Non-trainable params: 0\n",
            "_________________________________________________________________\n"
          ],
          "name": "stdout"
        }
      ]
    },
    {
      "cell_type": "code",
      "metadata": {
        "id": "fYRLV-3ew2p4",
        "colab_type": "code",
        "outputId": "45c8af71-1e11-4a4e-a97e-36e5072d42ad",
        "colab": {
          "base_uri": "https://localhost:8080/",
          "height": 1000
        }
      },
      "source": [
        "\ttrainX, trainY, testX, testY = load_dataset()\n",
        "\t# prepare pixel data\n",
        "\ttrainX, testX = prep_pixels(trainX, testX)\n",
        "\t# define model\n",
        "\tmodel = define_model()\n",
        "\t# fit model\n",
        "from keras.callbacks import ModelCheckpoint, EarlyStopping\n",
        "checkpoint = ModelCheckpoint(\"vgg16_1.k1\", monitor='val_accuracy', verbose=1, save_best_only=True, save_weights_only=False, mode='auto', period=1)\n",
        "early = EarlyStopping(monitor='val_accuracy', min_delta=0, patience=0, verbose=1, mode='auto')\n",
        "\thistory = model.fit(trainX, trainY, epochs=30, batch_size=64, validation_data=(testX, testY),callbacks=[checkpoint,early])\n",
        "\t# evaluate model\n",
        "\t_, acc = model.evaluate(testX, testY, verbose=0)\n",
        "\tprint('> %.3f' % (acc * 100.0))"
      ],
      "execution_count": 0,
      "outputs": [
        {
          "output_type": "stream",
          "text": [
            "Downloading data from https://www.cs.toronto.edu/~kriz/cifar-10-python.tar.gz\n",
            "170500096/170498071 [==============================] - 4s 0us/step\n",
            "WARNING:tensorflow:From /usr/local/lib/python3.6/dist-packages/keras/backend/tensorflow_backend.py:422: The name tf.global_variables is deprecated. Please use tf.compat.v1.global_variables instead.\n",
            "\n",
            "Train on 50000 samples, validate on 10000 samples\n",
            "Epoch 1/30\n",
            "50000/50000 [==============================] - 11s 229us/step - loss: 1.7816 - accuracy: 0.3660 - val_loss: 1.5794 - val_accuracy: 0.4439\n",
            "\n",
            "Epoch 00001: val_accuracy improved from -inf to 0.44390, saving model to vgg16_1.k1\n",
            "Epoch 2/30\n",
            "50000/50000 [==============================] - 5s 99us/step - loss: 1.4695 - accuracy: 0.4752 - val_loss: 1.4044 - val_accuracy: 0.5031\n",
            "\n",
            "Epoch 00002: val_accuracy improved from 0.44390 to 0.50310, saving model to vgg16_1.k1\n",
            "Epoch 3/30\n",
            "50000/50000 [==============================] - 5s 103us/step - loss: 1.3193 - accuracy: 0.5312 - val_loss: 1.2525 - val_accuracy: 0.5545\n",
            "\n",
            "Epoch 00003: val_accuracy improved from 0.50310 to 0.55450, saving model to vgg16_1.k1\n",
            "Epoch 4/30\n",
            "50000/50000 [==============================] - 5s 99us/step - loss: 1.2203 - accuracy: 0.5677 - val_loss: 1.2029 - val_accuracy: 0.5678\n",
            "\n",
            "Epoch 00004: val_accuracy improved from 0.55450 to 0.56780, saving model to vgg16_1.k1\n",
            "Epoch 5/30\n",
            "50000/50000 [==============================] - 5s 102us/step - loss: 1.1375 - accuracy: 0.5983 - val_loss: 1.1285 - val_accuracy: 0.6014\n",
            "\n",
            "Epoch 00005: val_accuracy improved from 0.56780 to 0.60140, saving model to vgg16_1.k1\n",
            "Epoch 6/30\n",
            "50000/50000 [==============================] - 5s 99us/step - loss: 1.0673 - accuracy: 0.6274 - val_loss: 1.1107 - val_accuracy: 0.6046\n",
            "\n",
            "Epoch 00006: val_accuracy improved from 0.60140 to 0.60460, saving model to vgg16_1.k1\n",
            "Epoch 7/30\n",
            "50000/50000 [==============================] - 5s 100us/step - loss: 1.0064 - accuracy: 0.6496 - val_loss: 1.1063 - val_accuracy: 0.6170\n",
            "\n",
            "Epoch 00007: val_accuracy improved from 0.60460 to 0.61700, saving model to vgg16_1.k1\n",
            "Epoch 8/30\n",
            "50000/50000 [==============================] - 5s 100us/step - loss: 0.9530 - accuracy: 0.6688 - val_loss: 1.0379 - val_accuracy: 0.6332\n",
            "\n",
            "Epoch 00008: val_accuracy improved from 0.61700 to 0.63320, saving model to vgg16_1.k1\n",
            "Epoch 9/30\n",
            "50000/50000 [==============================] - 5s 100us/step - loss: 0.8997 - accuracy: 0.6865 - val_loss: 1.0048 - val_accuracy: 0.6459\n",
            "\n",
            "Epoch 00009: val_accuracy improved from 0.63320 to 0.64590, saving model to vgg16_1.k1\n",
            "Epoch 10/30\n",
            "50000/50000 [==============================] - 5s 103us/step - loss: 0.8571 - accuracy: 0.7027 - val_loss: 1.0073 - val_accuracy: 0.6479\n",
            "\n",
            "Epoch 00010: val_accuracy improved from 0.64590 to 0.64790, saving model to vgg16_1.k1\n",
            "Epoch 11/30\n",
            "50000/50000 [==============================] - 5s 100us/step - loss: 0.8093 - accuracy: 0.7183 - val_loss: 0.9962 - val_accuracy: 0.6580\n",
            "\n",
            "Epoch 00011: val_accuracy improved from 0.64790 to 0.65800, saving model to vgg16_1.k1\n",
            "Epoch 12/30\n",
            "50000/50000 [==============================] - 5s 101us/step - loss: 0.7672 - accuracy: 0.7359 - val_loss: 0.9901 - val_accuracy: 0.6607\n",
            "\n",
            "Epoch 00012: val_accuracy improved from 0.65800 to 0.66070, saving model to vgg16_1.k1\n",
            "Epoch 13/30\n",
            "50000/50000 [==============================] - 5s 99us/step - loss: 0.7245 - accuracy: 0.7511 - val_loss: 0.9832 - val_accuracy: 0.6604\n",
            "\n",
            "Epoch 00013: val_accuracy did not improve from 0.66070\n",
            "Epoch 00013: early stopping\n",
            "> 66.040\n"
          ],
          "name": "stdout"
        }
      ]
    },
    {
      "cell_type": "code",
      "metadata": {
        "id": "kTK8QEPiw6Bm",
        "colab_type": "code",
        "outputId": "9acff935-7424-46fc-f540-05b4344f894b",
        "colab": {
          "base_uri": "https://localhost:8080/",
          "height": 281
        }
      },
      "source": [
        "\tpyplot.subplot(211)\n",
        "\tpyplot.title('Cross Entropy Loss')\n",
        "\tpyplot.plot(history.history['loss'], color='blue', label='train')\n",
        "\tpyplot.plot(history.history['val_loss'], color='orange', label='test')\n",
        "\t# plot accuracy\n",
        "\tpyplot.subplot(212)\n",
        "\tpyplot.title('Classification Accuracy')\n",
        "\tpyplot.plot(history.history['accuracy'], color='blue', label='train')\n",
        "\tpyplot.plot(history.history['val_accuracy'], color='orange', label='test')\n",
        "\t# save plot to file\n",
        "\tfilename = sys.argv[0].split('/')[-1]\n",
        "\tpyplot.savefig(filename + '_plot.png')\n",
        "\tpyplot.show()"
      ],
      "execution_count": 0,
      "outputs": [
        {
          "output_type": "display_data",
          "data": {
            "image/png": "[encoded data removed]",
            "text/plain": [
              "<Figure size 432x288 with 2 Axes>"
            ]
          },
          "metadata": {
            "tags": [],
            "needs_background": "light"
          }
        }
      ]
    },
    {
      "cell_type": "code",
      "metadata": {
        "id": "PTJQmRfinGGd",
        "colab_type": "code",
        "colab": {}
      },
      "source": [
        "#Saving the Model\n",
        "\tmodel.save('first_model.h5')\n"
      ],
      "execution_count": 0,
      "outputs": []
    },
    {
      "cell_type": "code",
      "metadata": {
        "id": "EGUg-AIWnYaR",
        "colab_type": "code",
        "outputId": "b46edf3a-a1f0-4ccd-be45-67ab3ff470c1",
        "colab": {
          "base_uri": "https://localhost:8080/",
          "height": 54
        }
      },
      "source": [
        "from keras.models import load_model\n",
        "from keras.preprocessing import image\n",
        "import numpy as np\n",
        "from os import listdir\n",
        "from os.path import isfile, join\n",
        "\n",
        "# Now Predict\n",
        "predict_dir_path=(\"drive/My Drive/Colab Notebooks/Folder1/\")\n",
        "onlyfiles = [f for f in listdir(predict_dir_path) if isfile(join(predict_dir_path, f))]\n",
        "print(onlyfiles)"
      ],
      "execution_count": 0,
      "outputs": [
        {
          "output_type": "stream",
          "text": [
            "['AEROPLANE1.jpeg', 'AEROPLANE2.jpeg', 'AEROPLANE3.jpeg', 'AEROPLANE4.jpeg', 'AUTOMOBILE5.jpeg', 'AUTMOBILE6.jpeg', 'AUTOMOBILE7.jpeg', 'AUTOMOBILE8.jpeg', 'AUTOMOBILE9.jpeg', 'BIRD (10).jpeg', 'BIRD (11).jpeg', 'BIRD (12).jpeg', 'BIRD (13).jpeg', 'BIRD (14).jpeg', 'BIRD (15).jpeg', 'BIRD (16).jpeg', 'CAT (17).jpeg', 'CAT (18).jpeg', 'CAT (19).jpeg', 'CAT (20).jpeg', 'CAT (21).jpeg', 'DEER (22).jpeg', 'DEER (23).jpeg', 'DEER (24).jpeg', 'DEER (25).jpeg', 'DEER (26).jpeg', 'DOG (27).jpeg', 'DOG (28).jpeg', 'DOG (29).jpeg', 'DOG (30).jpeg', 'DOG (31).jpeg', 'FROG (32).jpeg', 'FROG (33).jpeg', 'FROG (34).jpeg', 'FROG (35).jpeg', 'HORSE (36).jpeg', 'HORSE (37).jpeg', 'HORSE (38).jpeg', 'HORSE (39).jpeg', 'HORSE (40).jpeg', 'SHIP (41).jpeg', 'SHIP (42).jpeg', 'TRUCK (49).jpeg', 'TRUCK (50).jpeg', 'TRUCK (48).jpeg', 'TRUCK (47).jpeg', 'SHIP (43).jpeg', 'SHIP (44).jpeg', 'SHIP (45).jpeg', 'SHIP (46).jpeg']\n"
          ],
          "name": "stdout"
        }
      ]
    },
    {
      "cell_type": "code",
      "metadata": {
        "id": "T-GaIGXhn2qE",
        "colab_type": "code",
        "outputId": "203a345c-feaf-41b1-90c7-7f2c3d092181",
        "colab": {
          "base_uri": "https://localhost:8080/",
          "height": 1000
        }
      },
      "source": [
        "# predicting images\n",
        "from keras.preprocessing import image\n",
        "airplane = 0 \n",
        "automobile=1\n",
        "bird=2\n",
        "cat=3\n",
        "deer=4\n",
        "dog=5\n",
        "frog=6\n",
        "horse=7\n",
        "ship=8\n",
        "truck=9\n",
        "for file in onlyfiles:\n",
        "    img = image.load_img(predict_dir_path+file, target_size=(32, 32))\n",
        "    x = image.img_to_array(img)\n",
        "    x = np.expand_dims(x, axis=0)\n",
        "    \n",
        "    images = np.vstack([x])\n",
        "    model = load_model('/content/first_model.h5')\n",
        "    result = model.predict_classes(images, batch_size=10)\n",
        "\n",
        "    \n",
        "    \n",
        "    if result == 0:\n",
        "        print(file + \": \" + 'airplane')\n",
        "        airplane += 1\n",
        "    elif result==1:\n",
        "        print(file + \": \" + 'automobile')\n",
        "        automobile += 1\n",
        "    elif result==2:\n",
        "        print(file + \": \" + 'bird')\n",
        "        bird += 1\n",
        "    elif result==3:\n",
        "        print(file + \": \" + 'cat')\n",
        "        cat +=1\n",
        "    elif result==4:\n",
        "        print(file + \": \" + 'deer')\n",
        "        deer +=1\n",
        "    elif result==5:\n",
        "        print(file + \": \" + 'dog')\n",
        "        dog +=1\n",
        "    elif result==6:\n",
        "        print(file + \": \" + 'frog')\n",
        "        frog +=1\n",
        "    elif result==7:\n",
        "        print(file + \": \" + 'horse')\n",
        "        horse +=1\n",
        "    elif result==8:\n",
        "        print(file + \": \" + 'ship')\n",
        "        ship +=1\n",
        "    elif result==9:\n",
        "        print(file + \": \" + 'truck')\n",
        "        truck +=1\n",
        "    \n",
        "           \n",
        "print(\"Total airplane :\",airplane)\n",
        "print(\"Total automobile :\",automobile)\n",
        "print(\"Total bird :\",bird)\n",
        "print(\"Total cat :\",cat)\n",
        "print(\"Total deer :\",deer)\n",
        "print(\"Total dog :\",dog)\n",
        "print(\"Total frog :\",frog)\n",
        "print(\"Total horse :\",horse)\n",
        "print(\"Total ship :\",ship)\n",
        "print(\"Total truck :\",truck)"
      ],
      "execution_count": 0,
      "outputs": [
        {
          "output_type": "stream",
          "text": [
            "AEROPLANE1.jpeg: airplane\n",
            "AEROPLANE2.jpeg: airplane\n",
            "AEROPLANE3.jpeg: airplane\n",
            "AEROPLANE4.jpeg: airplane\n",
            "AUTOMOBILE5.jpeg: automobile\n",
            "AUTMOBILE6.jpeg: automobile\n",
            "AUTOMOBILE7.jpeg: automobile\n",
            "AUTOMOBILE8.jpeg: frog\n",
            "AUTOMOBILE9.jpeg: automobile\n",
            "BIRD (10).jpeg: bird\n",
            "BIRD (11).jpeg: bird\n",
            "BIRD (12).jpeg: bird\n",
            "BIRD (13).jpeg: dog\n",
            "BIRD (14).jpeg: frog\n",
            "BIRD (15).jpeg: bird\n",
            "BIRD (16).jpeg: bird\n",
            "CAT (17).jpeg: dog\n",
            "CAT (18).jpeg: dog\n",
            "CAT (19).jpeg: horse\n",
            "CAT (20).jpeg: dog\n",
            "CAT (21).jpeg: dog\n",
            "DEER (22).jpeg: deer\n",
            "DEER (23).jpeg: cat\n",
            "DEER (24).jpeg: frog\n",
            "DEER (25).jpeg: cat\n",
            "DEER (26).jpeg: frog\n",
            "DOG (27).jpeg: dog\n",
            "DOG (28).jpeg: dog\n",
            "DOG (29).jpeg: cat\n",
            "DOG (30).jpeg: dog\n",
            "DOG (31).jpeg: dog\n",
            "FROG (32).jpeg: frog\n",
            "FROG (33).jpeg: dog\n",
            "FROG (34).jpeg: ship\n",
            "FROG (35).jpeg: frog\n",
            "HORSE (36).jpeg: horse\n",
            "HORSE (37).jpeg: horse\n",
            "HORSE (38).jpeg: horse\n",
            "HORSE (39).jpeg: horse\n",
            "HORSE (40).jpeg: horse\n",
            "SHIP (41).jpeg: ship\n",
            "SHIP (42).jpeg: ship\n",
            "TRUCK (49).jpeg: automobile\n",
            "TRUCK (50).jpeg: truck\n",
            "TRUCK (48).jpeg: cat\n",
            "TRUCK (47).jpeg: automobile\n",
            "SHIP (43).jpeg: ship\n",
            "SHIP (44).jpeg: ship\n",
            "SHIP (45).jpeg: ship\n",
            "SHIP (46).jpeg: automobile\n",
            "Total airplane : 4\n",
            "Total automobile : 8\n",
            "Total bird : 7\n",
            "Total cat : 7\n",
            "Total deer : 5\n",
            "Total dog : 15\n",
            "Total frog : 12\n",
            "Total horse : 13\n",
            "Total ship : 14\n",
            "Total truck : 10\n"
          ],
          "name": "stdout"
        }
      ]
    },
    {
      "cell_type": "code",
      "metadata": {
        "id": "asi0seU9xhLv",
        "colab_type": "code",
        "colab": {}
      },
      "source": [
        ""
      ],
      "execution_count": 0,
      "outputs": []
    },
    {
      "cell_type": "markdown",
      "metadata": {
        "id": "IFw5ZdV8xjPr",
        "colab_type": "text"
      },
      "source": [
        "#Baseline: 2 VGG Blocks"
      ]
    },
    {
      "cell_type": "code",
      "metadata": {
        "id": "CkEwUmWjxmCR",
        "colab_type": "code",
        "colab": {}
      },
      "source": [
        "# define cnn model\n",
        "def define_model():\n",
        "  model = Sequential()\n",
        "  model.add(Conv2D(32, (3, 3), activation='relu', kernel_initializer='he_uniform', padding='same', input_shape=(32, 32, 3)))\n",
        "  model.add(Conv2D(32, (3, 3), activation='relu', kernel_initializer='he_uniform', padding='same'))\n",
        "  model.add(MaxPooling2D((2, 2)))\n",
        "  model.add(Conv2D(64, (3, 3), activation='relu', kernel_initializer='he_uniform', padding='same'))\n",
        "  model.add(Conv2D(64, (3, 3), activation='relu', kernel_initializer='he_uniform', padding='same'))\n",
        "\n",
        "  \n",
        "  # example output part of the model\n",
        "  model.add(Flatten())\n",
        "  model.add(Dense(128, activation='relu', kernel_initializer='he_uniform'))\n",
        "  model.add(Dense(10, activation='softmax'))\n",
        "\n",
        "  # compile model\n",
        "  opt = SGD(lr=0.001, momentum=0.9)\n",
        "  model.compile(optimizer=opt, loss='categorical_crossentropy', metrics=['accuracy'])\n",
        "  return model"
      ],
      "execution_count": 0,
      "outputs": []
    },
    {
      "cell_type": "code",
      "metadata": {
        "id": "mBqsiHTExpi5",
        "colab_type": "code",
        "outputId": "fd78db78-0437-4427-cc26-b68f786f2fbd",
        "colab": {
          "base_uri": "https://localhost:8080/",
          "height": 680
        }
      },
      "source": [
        "trainX, trainY, testX, testY = load_dataset()\n",
        "# prepare pixel data\n",
        "trainX, testX = prep_pixels(trainX, testX)\n",
        "# define model\n",
        "model = define_model()\n",
        "# fit model\n",
        "from keras.callbacks import ModelCheckpoint, EarlyStopping\n",
        "checkpoint = ModelCheckpoint(\"vgg16_1.k2\", monitor='val_accuracy', verbose=1, save_best_only=True, save_weights_only=False, mode='auto', period=1)\n",
        "early = EarlyStopping(monitor='val_accuracy', min_delta=0, patience=0, verbose=1, mode='auto')\n",
        "history = model.fit(trainX, trainY, epochs=30, batch_size=64, validation_data=(testX, testY), verbose=1, callbacks=[checkpoint,early])\n",
        "# evaluate model\n",
        "_, acc = model.evaluate(testX, testY, verbose=0)\n",
        "print('> %.3f' % (acc * 100.0))"
      ],
      "execution_count": 0,
      "outputs": [
        {
          "output_type": "stream",
          "text": [
            "Train on 50000 samples, validate on 10000 samples\n",
            "Epoch 1/30\n",
            "50000/50000 [==============================] - 8s 160us/step - loss: 1.6928 - accuracy: 0.3950 - val_loss: 1.4382 - val_accuracy: 0.4918\n",
            "\n",
            "Epoch 00001: val_accuracy improved from -inf to 0.49180, saving model to vgg16_1.k2\n",
            "Epoch 2/30\n",
            "50000/50000 [==============================] - 7s 138us/step - loss: 1.3524 - accuracy: 0.5206 - val_loss: 1.2475 - val_accuracy: 0.5636\n",
            "\n",
            "Epoch 00002: val_accuracy improved from 0.49180 to 0.56360, saving model to vgg16_1.k2\n",
            "Epoch 3/30\n",
            "50000/50000 [==============================] - 7s 140us/step - loss: 1.1664 - accuracy: 0.5888 - val_loss: 1.1220 - val_accuracy: 0.6046\n",
            "\n",
            "Epoch 00003: val_accuracy improved from 0.56360 to 0.60460, saving model to vgg16_1.k2\n",
            "Epoch 4/30\n",
            "50000/50000 [==============================] - 7s 142us/step - loss: 1.0269 - accuracy: 0.6408 - val_loss: 1.0149 - val_accuracy: 0.6422\n",
            "\n",
            "Epoch 00004: val_accuracy improved from 0.60460 to 0.64220, saving model to vgg16_1.k2\n",
            "Epoch 5/30\n",
            "50000/50000 [==============================] - 7s 138us/step - loss: 0.9235 - accuracy: 0.6776 - val_loss: 0.9940 - val_accuracy: 0.6485\n",
            "\n",
            "Epoch 00005: val_accuracy improved from 0.64220 to 0.64850, saving model to vgg16_1.k2\n",
            "Epoch 6/30\n",
            "50000/50000 [==============================] - 7s 137us/step - loss: 0.8330 - accuracy: 0.7101 - val_loss: 0.9490 - val_accuracy: 0.6763\n",
            "\n",
            "Epoch 00006: val_accuracy improved from 0.64850 to 0.67630, saving model to vgg16_1.k2\n",
            "Epoch 7/30\n",
            "50000/50000 [==============================] - 7s 137us/step - loss: 0.7434 - accuracy: 0.7435 - val_loss: 0.9256 - val_accuracy: 0.6797\n",
            "\n",
            "Epoch 00007: val_accuracy improved from 0.67630 to 0.67970, saving model to vgg16_1.k2\n",
            "Epoch 8/30\n",
            "50000/50000 [==============================] - 7s 139us/step - loss: 0.6654 - accuracy: 0.7712 - val_loss: 0.8963 - val_accuracy: 0.6955\n",
            "\n",
            "Epoch 00008: val_accuracy improved from 0.67970 to 0.69550, saving model to vgg16_1.k2\n",
            "Epoch 9/30\n",
            "50000/50000 [==============================] - 7s 137us/step - loss: 0.5774 - accuracy: 0.8024 - val_loss: 0.9216 - val_accuracy: 0.6936\n",
            "\n",
            "Epoch 00009: val_accuracy did not improve from 0.69550\n",
            "Epoch 00009: early stopping\n",
            "> 69.360\n"
          ],
          "name": "stdout"
        }
      ]
    },
    {
      "cell_type": "code",
      "metadata": {
        "id": "3-kArWjOxtm6",
        "colab_type": "code",
        "outputId": "bd2ab7c8-54c4-45fd-ff2b-e4ba371c1bf6",
        "colab": {
          "base_uri": "https://localhost:8080/",
          "height": 573
        }
      },
      "source": [
        "# Plot training & validation accuracy values\n",
        "\n",
        "pyplot.plot(history.history['accuracy'])\n",
        "pyplot.plot(history.history['val_accuracy'])\n",
        "pyplot.title('Model accuracy')\n",
        "pyplot.ylabel('Accuracy')\n",
        "pyplot.xlabel('Epoch')\n",
        "pyplot.legend(['Train', 'Val'], loc='upper left')\n",
        "pyplot.show()\n",
        "\n",
        "# Plot training & validation loss values\n",
        "pyplot.plot(history.history['loss'])\n",
        "pyplot.plot(history.history['val_loss'])\n",
        "pyplot.title('Model loss')\n",
        "pyplot.ylabel('Loss')\n",
        "pyplot.xlabel('Epoch')\n",
        "pyplot.legend(['Train', 'Val'], loc='upper left')\n",
        "pyplot.show()"
      ],
      "execution_count": 0,
      "outputs": [
        {
          "output_type": "display_data",
          "data": {
            "image/png": "[encoded data removed]",
            "text/plain": [
              "<Figure size 432x288 with 1 Axes>"
            ]
          },
          "metadata": {
            "tags": [],
            "needs_background": "light"
          }
        },
        {
          "output_type": "display_data",
          "data": {
            "image/png": "[encoded data removed]",
            "text/plain": [
              "<Figure size 432x288 with 1 Axes>"
            ]
          },
          "metadata": {
            "tags": [],
            "needs_background": "light"
          }
        }
      ]
    },
    {
      "cell_type": "code",
      "metadata": {
        "id": "hrBIZUcDx77A",
        "colab_type": "code",
        "colab": {}
      },
      "source": [
        "# save model\n",
        "\tmodel.save('second_model.h5')"
      ],
      "execution_count": 0,
      "outputs": []
    },
    {
      "cell_type": "code",
      "metadata": {
        "id": "e4CyBD1Czpsp",
        "colab_type": "code",
        "outputId": "57c2ebae-d9f1-489b-a091-2e8553863a4d",
        "colab": {
          "base_uri": "https://localhost:8080/",
          "height": 1000
        }
      },
      "source": [
        "# predicting images\n",
        "from keras.preprocessing import image\n",
        "airplane = 0 \n",
        "automobile=1\n",
        "bird=2\n",
        "cat=3\n",
        "deer=4\n",
        "dog=5\n",
        "frog=6\n",
        "horse=7\n",
        "ship=8\n",
        "truck=9\n",
        "for file in onlyfiles:\n",
        "    img = image.load_img(predict_dir_path+file, target_size=(32, 32))\n",
        "    x = image.img_to_array(img)\n",
        "    x = np.expand_dims(x, axis=0)\n",
        "    \n",
        "    images = np.vstack([x])\n",
        "    model = load_model('/content/second_model.h5')\n",
        "    result = model.predict_classes(images, batch_size=10)\n",
        "\n",
        "    \n",
        "    \n",
        "    if result == 0:\n",
        "        print(file + \": \" + 'airplane')\n",
        "        airplane += 1\n",
        "    elif result==1:\n",
        "        print(file + \": \" + 'automobile')\n",
        "        automobile += 1\n",
        "    elif result==2:\n",
        "        print(file + \": \" + 'bird')\n",
        "        bird += 1\n",
        "    elif result==3:\n",
        "        print(file + \": \" + 'cat')\n",
        "        cat +=1\n",
        "    elif result==4:\n",
        "        print(file + \": \" + 'deer')\n",
        "        deer +=1\n",
        "    elif result==5:\n",
        "        print(file + \": \" + 'dog')\n",
        "        dog +=1\n",
        "    elif result==6:\n",
        "        print(file + \": \" + 'frog')\n",
        "        frog +=1\n",
        "    elif result==7:\n",
        "        print(file + \": \" + 'horse')\n",
        "        horse +=1\n",
        "    elif result==8:\n",
        "        print(file + \": \" + 'ship')\n",
        "        ship +=1\n",
        "    elif result==9:\n",
        "        print(file + \": \" + 'truck')\n",
        "        truck +=1\n",
        "    \n",
        "           \n",
        "print(\"Total airplane :\",airplane)\n",
        "print(\"Total automobile :\",automobile)\n",
        "print(\"Total bird :\",bird)\n",
        "print(\"Total cat :\",cat)\n",
        "print(\"Total deer :\",deer)\n",
        "print(\"Total dog :\",dog)\n",
        "print(\"Total frog :\",frog)\n",
        "print(\"Total horse :\",horse)\n",
        "print(\"Total ship :\",ship)\n",
        "print(\"Total truck :\",truck)"
      ],
      "execution_count": 0,
      "outputs": [
        {
          "output_type": "stream",
          "text": [
            "AEROPLANE1.jpeg: airplane\n",
            "AEROPLANE2.jpeg: airplane\n",
            "AEROPLANE3.jpeg: airplane\n",
            "AEROPLANE4.jpeg: airplane\n",
            "AUTOMOBILE5.jpeg: automobile\n",
            "AUTMOBILE6.jpeg: automobile\n",
            "AUTOMOBILE7.jpeg: automobile\n",
            "AUTOMOBILE8.jpeg: truck\n",
            "AUTOMOBILE9.jpeg: automobile\n",
            "BIRD (10).jpeg: bird\n",
            "BIRD (11).jpeg: frog\n",
            "BIRD (12).jpeg: airplane\n",
            "BIRD (13).jpeg: airplane\n",
            "BIRD (14).jpeg: airplane\n",
            "BIRD (15).jpeg: bird\n",
            "BIRD (16).jpeg: bird\n",
            "CAT (17).jpeg: dog\n",
            "CAT (18).jpeg: dog\n",
            "CAT (19).jpeg: truck\n",
            "CAT (20).jpeg: deer\n",
            "CAT (21).jpeg: dog\n",
            "DEER (22).jpeg: horse\n",
            "DEER (23).jpeg: deer\n",
            "DEER (24).jpeg: frog\n",
            "DEER (25).jpeg: truck\n",
            "DEER (26).jpeg: frog\n",
            "DOG (27).jpeg: deer\n",
            "DOG (28).jpeg: dog\n",
            "DOG (29).jpeg: cat\n",
            "DOG (30).jpeg: truck\n",
            "DOG (31).jpeg: dog\n",
            "FROG (32).jpeg: frog\n",
            "FROG (33).jpeg: dog\n",
            "FROG (34).jpeg: truck\n",
            "FROG (35).jpeg: frog\n",
            "HORSE (36).jpeg: horse\n",
            "HORSE (37).jpeg: horse\n",
            "HORSE (38).jpeg: horse\n",
            "HORSE (39).jpeg: horse\n",
            "HORSE (40).jpeg: horse\n",
            "SHIP (41).jpeg: ship\n",
            "SHIP (42).jpeg: airplane\n",
            "TRUCK (49).jpeg: truck\n",
            "TRUCK (50).jpeg: automobile\n",
            "TRUCK (48).jpeg: truck\n",
            "TRUCK (47).jpeg: automobile\n",
            "SHIP (43).jpeg: ship\n",
            "SHIP (44).jpeg: ship\n",
            "SHIP (45).jpeg: ship\n",
            "SHIP (46).jpeg: truck\n",
            "Total airplane : 8\n",
            "Total automobile : 7\n",
            "Total bird : 5\n",
            "Total cat : 4\n",
            "Total deer : 7\n",
            "Total dog : 11\n",
            "Total frog : 11\n",
            "Total horse : 13\n",
            "Total ship : 12\n",
            "Total truck : 17\n"
          ],
          "name": "stdout"
        }
      ]
    },
    {
      "cell_type": "markdown",
      "metadata": {
        "id": "pKGQz0dmx_R1",
        "colab_type": "text"
      },
      "source": [
        "#Baseline: 3 VGG Blocks"
      ]
    },
    {
      "cell_type": "code",
      "metadata": {
        "id": "2jXgz9SWx_5S",
        "colab_type": "code",
        "colab": {}
      },
      "source": [
        "# define cnn model\n",
        "def define_model():\n",
        "  model = Sequential()\n",
        "  model.add(Conv2D(32, (3, 3), activation='relu', kernel_initializer='he_uniform', padding='same', input_shape=(32, 32, 3)))\n",
        "  model.add(Conv2D(32, (3, 3), activation='relu', kernel_initializer='he_uniform', padding='same'))\n",
        "  model.add(MaxPooling2D((2, 2)))\n",
        "  model.add(Conv2D(64, (3, 3), activation='relu', kernel_initializer='he_uniform', padding='same'))\n",
        "  model.add(Conv2D(64, (3, 3), activation='relu', kernel_initializer='he_uniform', padding='same'))\n",
        "  model.add(MaxPooling2D((2, 2)))\n",
        "  model.add(Conv2D(64, (3, 3), activation='relu', kernel_initializer='he_uniform', padding='same'))\n",
        "  model.add(Conv2D(64, (3, 3), activation='relu', kernel_initializer='he_uniform', padding='same'))\n",
        "  model.add(MaxPooling2D((2, 2)))\n",
        "  \n",
        "  \n",
        "  # example output part of the model\n",
        "  model.add(Flatten())\n",
        "  model.add(Dense(128, activation='relu', kernel_initializer='he_uniform'))\n",
        "  model.add(Dense(10, activation='softmax'))\n",
        "\n",
        "  # compile model\n",
        "  opt = SGD(lr=0.001, momentum=0.9)\n",
        "  model.compile(optimizer=opt, loss='categorical_crossentropy', metrics=['accuracy'])\n",
        "  return model"
      ],
      "execution_count": 0,
      "outputs": []
    },
    {
      "cell_type": "code",
      "metadata": {
        "id": "G5a7vEEayBcN",
        "colab_type": "code",
        "outputId": "c24c6242-6a57-4964-9ef0-2e0b8bb7547d",
        "colab": {
          "base_uri": "https://localhost:8080/",
          "height": 612
        }
      },
      "source": [
        "\ttrainX, trainY, testX, testY = load_dataset()\n",
        "\t# prepare pixel data\n",
        "\ttrainX, testX = prep_pixels(trainX, testX)\n",
        "\t# define model\n",
        "\tmodel = define_model()\n",
        "\t# fit model\n",
        "\tfrom keras.callbacks import ModelCheckpoint, EarlyStopping\n",
        "checkpoint = ModelCheckpoint(\"vgg16_1.k3\", monitor='val_accuracy', verbose=1, save_best_only=True, save_weights_only=False, mode='auto', period=1)\n",
        "early = EarlyStopping(monitor='val_accuracy', min_delta=0, patience=0, verbose=1, mode='auto')\n",
        "\thistory = model.fit(trainX, trainY, epochs=30, batch_size=64, validation_data=(testX, testY), verbose=1, callbacks=[checkpoint,early])\n",
        "\t# evaluate model\n",
        "\t_, acc = model.evaluate(testX, testY, verbose=0)\n",
        "\tprint('> %.3f' % (acc * 100.0))"
      ],
      "execution_count": 0,
      "outputs": [
        {
          "output_type": "stream",
          "text": [
            "Train on 50000 samples, validate on 10000 samples\n",
            "Epoch 1/30\n",
            "50000/50000 [==============================] - 11s 215us/step - loss: 1.8083 - accuracy: 0.3454 - val_loss: 1.6539 - val_accuracy: 0.4119\n",
            "\n",
            "Epoch 00001: val_accuracy improved from -inf to 0.41190, saving model to vgg16_1.k3\n",
            "Epoch 2/30\n",
            "50000/50000 [==============================] - 9s 172us/step - loss: 1.4395 - accuracy: 0.4813 - val_loss: 1.3401 - val_accuracy: 0.5183\n",
            "\n",
            "Epoch 00002: val_accuracy improved from 0.41190 to 0.51830, saving model to vgg16_1.k3\n",
            "Epoch 3/30\n",
            "50000/50000 [==============================] - 9s 174us/step - loss: 1.2863 - accuracy: 0.5403 - val_loss: 1.2460 - val_accuracy: 0.5561\n",
            "\n",
            "Epoch 00003: val_accuracy improved from 0.51830 to 0.55610, saving model to vgg16_1.k3\n",
            "Epoch 4/30\n",
            "50000/50000 [==============================] - 9s 176us/step - loss: 1.1616 - accuracy: 0.5862 - val_loss: 1.1418 - val_accuracy: 0.5902\n",
            "\n",
            "Epoch 00004: val_accuracy improved from 0.55610 to 0.59020, saving model to vgg16_1.k3\n",
            "Epoch 5/30\n",
            "50000/50000 [==============================] - 9s 172us/step - loss: 1.0664 - accuracy: 0.6233 - val_loss: 1.1360 - val_accuracy: 0.5987\n",
            "\n",
            "Epoch 00005: val_accuracy improved from 0.59020 to 0.59870, saving model to vgg16_1.k3\n",
            "Epoch 6/30\n",
            "50000/50000 [==============================] - 9s 173us/step - loss: 0.9946 - accuracy: 0.6506 - val_loss: 1.0198 - val_accuracy: 0.6429\n",
            "\n",
            "Epoch 00006: val_accuracy improved from 0.59870 to 0.64290, saving model to vgg16_1.k3\n",
            "Epoch 7/30\n",
            "50000/50000 [==============================] - 9s 173us/step - loss: 0.9236 - accuracy: 0.6765 - val_loss: 0.9555 - val_accuracy: 0.6689\n",
            "\n",
            "Epoch 00007: val_accuracy improved from 0.64290 to 0.66890, saving model to vgg16_1.k3\n",
            "Epoch 8/30\n",
            "50000/50000 [==============================] - 9s 176us/step - loss: 0.8713 - accuracy: 0.6954 - val_loss: 0.9418 - val_accuracy: 0.6688\n",
            "\n",
            "Epoch 00008: val_accuracy did not improve from 0.66890\n",
            "Epoch 00008: early stopping\n",
            "> 66.880\n"
          ],
          "name": "stdout"
        }
      ]
    },
    {
      "cell_type": "code",
      "metadata": {
        "id": "fsk_93lYyD-J",
        "colab_type": "code",
        "outputId": "8f16d078-3297-45f9-8ddd-b3f47b141a79",
        "colab": {
          "base_uri": "https://localhost:8080/",
          "height": 573
        }
      },
      "source": [
        "# Plot training & validation accuracy values\n",
        "\n",
        "pyplot.plot(history.history['accuracy'])\n",
        "pyplot.plot(history.history['val_accuracy'])\n",
        "pyplot.title('Model accuracy')\n",
        "pyplot.ylabel('Accuracy')\n",
        "pyplot.xlabel('Epoch')\n",
        "pyplot.legend(['Train', 'Val'], loc='upper left')\n",
        "pyplot.show()\n",
        "\n",
        "# Plot training & validation loss values\n",
        "pyplot.plot(history.history['loss'])\n",
        "pyplot.plot(history.history['val_loss'])\n",
        "pyplot.title('Model loss')\n",
        "pyplot.ylabel('Loss')\n",
        "pyplot.xlabel('Epoch')\n",
        "pyplot.legend(['Train', 'Val'], loc='upper left')\n",
        "pyplot.show()"
      ],
      "execution_count": 0,
      "outputs": [
        {
          "output_type": "display_data",
          "data": {
            "image/png": "[encoded data removed]",
            "text/plain": [
              "<Figure size 432x288 with 1 Axes>"
            ]
          },
          "metadata": {
            "tags": [],
            "needs_background": "light"
          }
        },
        {
          "output_type": "display_data",
          "data": {
            "image/png": "[encoded data removed]",
            "text/plain": [
              "<Figure size 432x288 with 1 Axes>"
            ]
          },
          "metadata": {
            "tags": [],
            "needs_background": "light"
          }
        }
      ]
    },
    {
      "cell_type": "code",
      "metadata": {
        "id": "RH5f--FBz3vu",
        "colab_type": "code",
        "colab": {}
      },
      "source": [
        "# save model\n",
        "\tmodel.save('Third_model.h5')"
      ],
      "execution_count": 0,
      "outputs": []
    },
    {
      "cell_type": "code",
      "metadata": {
        "id": "5NvUWzV5z37O",
        "colab_type": "code",
        "outputId": "26bbe53b-31b0-4610-fee8-f23a7355abc7",
        "colab": {
          "base_uri": "https://localhost:8080/",
          "height": 1000
        }
      },
      "source": [
        "# predicting images\n",
        "from keras.preprocessing import image\n",
        "airplane = 0 \n",
        "automobile=1\n",
        "bird=2\n",
        "cat=3\n",
        "deer=4\n",
        "dog=5\n",
        "frog=6\n",
        "horse=7\n",
        "ship=8\n",
        "truck=9\n",
        "for file in onlyfiles:\n",
        "    img = image.load_img(predict_dir_path+file, target_size=(32, 32))\n",
        "    x = image.img_to_array(img)\n",
        "    x = np.expand_dims(x, axis=0)\n",
        "    \n",
        "    images = np.vstack([x])\n",
        "    model = load_model('/content/Third_model.h5')\n",
        "    result = model.predict_classes(images, batch_size=10)\n",
        "\n",
        "    \n",
        "    \n",
        "    if result == 0:\n",
        "        print(file + \": \" + 'airplane')\n",
        "        airplane += 1\n",
        "    elif result==1:\n",
        "        print(file + \": \" + 'automobile')\n",
        "        automobile += 1\n",
        "    elif result==2:\n",
        "        print(file + \": \" + 'bird')\n",
        "        bird += 1\n",
        "    elif result==3:\n",
        "        print(file + \": \" + 'cat')\n",
        "        cat +=1\n",
        "    elif result==4:\n",
        "        print(file + \": \" + 'deer')\n",
        "        deer +=1\n",
        "    elif result==5:\n",
        "        print(file + \": \" + 'dog')\n",
        "        dog +=1\n",
        "    elif result==6:\n",
        "        print(file + \": \" + 'frog')\n",
        "        frog +=1\n",
        "    elif result==7:\n",
        "        print(file + \": \" + 'horse')\n",
        "        horse +=1\n",
        "    elif result==8:\n",
        "        print(file + \": \" + 'ship')\n",
        "        ship +=1\n",
        "    elif result==9:\n",
        "        print(file + \": \" + 'truck')\n",
        "        truck +=1\n",
        "    \n",
        "           \n",
        "print(\"Total airplane :\",airplane)\n",
        "print(\"Total automobile :\",automobile)\n",
        "print(\"Total bird :\",bird)\n",
        "print(\"Total cat :\",cat)\n",
        "print(\"Total deer :\",deer)\n",
        "print(\"Total dog :\",dog)\n",
        "print(\"Total frog :\",frog)\n",
        "print(\"Total horse :\",horse)\n",
        "print(\"Total ship :\",ship)\n",
        "print(\"Total truck :\",truck)"
      ],
      "execution_count": 0,
      "outputs": [
        {
          "output_type": "stream",
          "text": [
            "AEROPLANE1.jpeg: airplane\n",
            "AEROPLANE2.jpeg: airplane\n",
            "AEROPLANE3.jpeg: airplane\n",
            "AEROPLANE4.jpeg: airplane\n",
            "AUTOMOBILE5.jpeg: automobile\n",
            "AUTMOBILE6.jpeg: airplane\n",
            "AUTOMOBILE7.jpeg: automobile\n",
            "AUTOMOBILE8.jpeg: truck\n",
            "AUTOMOBILE9.jpeg: automobile\n",
            "BIRD (10).jpeg: bird\n",
            "BIRD (11).jpeg: bird\n",
            "BIRD (12).jpeg: airplane\n",
            "BIRD (13).jpeg: frog\n",
            "BIRD (14).jpeg: airplane\n",
            "BIRD (15).jpeg: bird\n",
            "BIRD (16).jpeg: bird\n",
            "CAT (17).jpeg: dog\n",
            "CAT (18).jpeg: cat\n",
            "CAT (19).jpeg: truck\n",
            "CAT (20).jpeg: frog\n",
            "CAT (21).jpeg: cat\n",
            "DEER (22).jpeg: deer\n",
            "DEER (23).jpeg: frog\n",
            "DEER (24).jpeg: frog\n",
            "DEER (25).jpeg: cat\n",
            "DEER (26).jpeg: frog\n",
            "DOG (27).jpeg: dog\n",
            "DOG (28).jpeg: dog\n",
            "DOG (29).jpeg: cat\n",
            "DOG (30).jpeg: frog\n",
            "DOG (31).jpeg: cat\n",
            "FROG (32).jpeg: frog\n",
            "FROG (33).jpeg: frog\n",
            "FROG (34).jpeg: frog\n",
            "FROG (35).jpeg: frog\n",
            "HORSE (36).jpeg: horse\n",
            "HORSE (37).jpeg: horse\n",
            "HORSE (38).jpeg: horse\n",
            "HORSE (39).jpeg: horse\n",
            "HORSE (40).jpeg: horse\n",
            "SHIP (41).jpeg: ship\n",
            "SHIP (42).jpeg: airplane\n",
            "TRUCK (49).jpeg: truck\n",
            "TRUCK (50).jpeg: truck\n",
            "TRUCK (48).jpeg: ship\n",
            "TRUCK (47).jpeg: truck\n",
            "SHIP (43).jpeg: ship\n",
            "SHIP (44).jpeg: ship\n",
            "SHIP (45).jpeg: ship\n",
            "SHIP (46).jpeg: automobile\n",
            "Total airplane : 8\n",
            "Total automobile : 5\n",
            "Total bird : 6\n",
            "Total cat : 8\n",
            "Total deer : 5\n",
            "Total dog : 8\n",
            "Total frog : 16\n",
            "Total horse : 12\n",
            "Total ship : 13\n",
            "Total truck : 14\n"
          ],
          "name": "stdout"
        }
      ]
    },
    {
      "cell_type": "markdown",
      "metadata": {
        "id": "-iWY4G_zyKoZ",
        "colab_type": "text"
      },
      "source": [
        "# Dropout Regularization Techniques"
      ]
    },
    {
      "cell_type": "code",
      "metadata": {
        "id": "hwOxitcIyLCH",
        "colab_type": "code",
        "colab": {}
      },
      "source": [
        "# define cnn model\n",
        "def define_model():\n",
        "  model = Sequential()\n",
        "  model.add(Conv2D(32, (3, 3), activation='relu', kernel_initializer='he_uniform', padding='same', input_shape=(32, 32, 3)))\n",
        "  model.add(Conv2D(32, (3, 3), activation='relu', kernel_initializer='he_uniform', padding='same'))\n",
        "  model.add(MaxPooling2D((2, 2)))\n",
        "  model.add(Dropout(0.2))\n",
        "  model.add(Conv2D(64, (3, 3), activation='relu', kernel_initializer='he_uniform', padding='same'))\n",
        "  model.add(Conv2D(64, (3, 3), activation='relu', kernel_initializer='he_uniform', padding='same'))\n",
        "  model.add(MaxPooling2D((2, 2)))\n",
        "  model.add(Dropout(0.2))\n",
        "  model.add(Conv2D(128, (3, 3), activation='relu', kernel_initializer='he_uniform', padding='same'))\n",
        "  model.add(Conv2D(128, (3, 3), activation='relu', kernel_initializer='he_uniform', padding='same'))\n",
        "  model.add(MaxPooling2D((2, 2)))\n",
        "  model.add(Dropout(0.2))\n",
        "  \n",
        "  \n",
        "  # example output part of the model\n",
        "  model.add(Flatten())\n",
        "  model.add(Dense(128, activation='relu', kernel_initializer='he_uniform'))\n",
        "  model.add(Dropout(0.2))\n",
        "  model.add(Dense(10, activation='softmax'))\n",
        "\n",
        "  # compile model\n",
        "  opt = SGD(lr=0.001, momentum=0.9)\n",
        "  model.compile(optimizer=opt, loss='categorical_crossentropy', metrics=['accuracy'])\n",
        "  return model"
      ],
      "execution_count": 0,
      "outputs": []
    },
    {
      "cell_type": "code",
      "metadata": {
        "id": "Oh79zoqYk7Hp",
        "colab_type": "code",
        "colab": {}
      },
      "source": [
        ""
      ],
      "execution_count": 0,
      "outputs": []
    },
    {
      "cell_type": "code",
      "metadata": {
        "id": "ZzvcVBFfyMUo",
        "colab_type": "code",
        "outputId": "e5d35a45-3114-4e52-b35c-e1ae8f856868",
        "colab": {
          "base_uri": "https://localhost:8080/",
          "height": 816
        }
      },
      "source": [
        "\tfrom keras.layers import Dropout\n",
        "\ttrainX, trainY, testX, testY = load_dataset()\n",
        "\t# prepare pixel data\n",
        "\ttrainX, testX = prep_pixels(trainX, testX)\n",
        "\t# define model\n",
        "\tmodel = define_model()\n",
        "\t# fit model\n",
        "\tfrom keras.callbacks import ModelCheckpoint, EarlyStopping\n",
        "checkpoint = ModelCheckpoint(\"vgg16_1.k4\", monitor='val_accuracy', verbose=1, save_best_only=True, save_weights_only=False, mode='auto', period=1)\n",
        "early = EarlyStopping(monitor='val_accuracy', min_delta=0, patience=0, verbose=1, mode='auto')\n",
        "\thistory = model.fit(trainX, trainY, epochs=30, batch_size=64, validation_data=(testX, testY), verbose=1, callbacks=[checkpoint,early])\n",
        "\t# evaluate model\n",
        "\t_, acc = model.evaluate(testX, testY, verbose=0)\n",
        "\tprint('> %.3f' % (acc * 100.0))"
      ],
      "execution_count": 0,
      "outputs": [
        {
          "output_type": "stream",
          "text": [
            "Train on 50000 samples, validate on 10000 samples\n",
            "Epoch 1/30\n",
            "50000/50000 [==============================] - 15s 293us/step - loss: 1.9934 - accuracy: 0.2606 - val_loss: 1.6485 - val_accuracy: 0.4151\n",
            "\n",
            "Epoch 00001: val_accuracy improved from -inf to 0.41510, saving model to vgg16_1.k4\n",
            "Epoch 2/30\n",
            "50000/50000 [==============================] - 11s 221us/step - loss: 1.6344 - accuracy: 0.3959 - val_loss: 1.6031 - val_accuracy: 0.4177\n",
            "\n",
            "Epoch 00002: val_accuracy improved from 0.41510 to 0.41770, saving model to vgg16_1.k4\n",
            "Epoch 3/30\n",
            "50000/50000 [==============================] - 11s 216us/step - loss: 1.4755 - accuracy: 0.4596 - val_loss: 1.3417 - val_accuracy: 0.5194\n",
            "\n",
            "Epoch 00003: val_accuracy improved from 0.41770 to 0.51940, saving model to vgg16_1.k4\n",
            "Epoch 4/30\n",
            "50000/50000 [==============================] - 11s 214us/step - loss: 1.3719 - accuracy: 0.5022 - val_loss: 1.2346 - val_accuracy: 0.5599\n",
            "\n",
            "Epoch 00004: val_accuracy improved from 0.51940 to 0.55990, saving model to vgg16_1.k4\n",
            "Epoch 5/30\n",
            "50000/50000 [==============================] - 11s 215us/step - loss: 1.2829 - accuracy: 0.5342 - val_loss: 1.1687 - val_accuracy: 0.5775\n",
            "\n",
            "Epoch 00005: val_accuracy improved from 0.55990 to 0.57750, saving model to vgg16_1.k4\n",
            "Epoch 6/30\n",
            "50000/50000 [==============================] - 11s 213us/step - loss: 1.2149 - accuracy: 0.5623 - val_loss: 1.1803 - val_accuracy: 0.5880\n",
            "\n",
            "Epoch 00006: val_accuracy improved from 0.57750 to 0.58800, saving model to vgg16_1.k4\n",
            "Epoch 7/30\n",
            "50000/50000 [==============================] - 11s 217us/step - loss: 1.1438 - accuracy: 0.5904 - val_loss: 1.0076 - val_accuracy: 0.6398\n",
            "\n",
            "Epoch 00007: val_accuracy improved from 0.58800 to 0.63980, saving model to vgg16_1.k4\n",
            "Epoch 8/30\n",
            "50000/50000 [==============================] - 11s 214us/step - loss: 1.0888 - accuracy: 0.6116 - val_loss: 0.9760 - val_accuracy: 0.6538\n",
            "\n",
            "Epoch 00008: val_accuracy improved from 0.63980 to 0.65380, saving model to vgg16_1.k4\n",
            "Epoch 9/30\n",
            "50000/50000 [==============================] - 11s 216us/step - loss: 1.0415 - accuracy: 0.6268 - val_loss: 0.9237 - val_accuracy: 0.6705\n",
            "\n",
            "Epoch 00009: val_accuracy improved from 0.65380 to 0.67050, saving model to vgg16_1.k4\n",
            "Epoch 10/30\n",
            "50000/50000 [==============================] - 11s 216us/step - loss: 1.0012 - accuracy: 0.6428 - val_loss: 0.9212 - val_accuracy: 0.6759\n",
            "\n",
            "Epoch 00010: val_accuracy improved from 0.67050 to 0.67590, saving model to vgg16_1.k4\n",
            "Epoch 11/30\n",
            "50000/50000 [==============================] - 11s 215us/step - loss: 0.9674 - accuracy: 0.6552 - val_loss: 0.9218 - val_accuracy: 0.6725\n",
            "\n",
            "Epoch 00011: val_accuracy did not improve from 0.67590\n",
            "Epoch 00011: early stopping\n",
            "> 67.250\n"
          ],
          "name": "stdout"
        }
      ]
    },
    {
      "cell_type": "code",
      "metadata": {
        "id": "yuNwcHZ1yOFR",
        "colab_type": "code",
        "outputId": "a9ffca28-b7f1-4102-95ce-beee346b1661",
        "colab": {
          "base_uri": "https://localhost:8080/",
          "height": 573
        }
      },
      "source": [
        "# Plot training & validation accuracy values\n",
        "\n",
        "pyplot.plot(history.history['accuracy'])\n",
        "pyplot.plot(history.history['val_accuracy'])\n",
        "pyplot.title('Model accuracy')\n",
        "pyplot.ylabel('Accuracy')\n",
        "pyplot.xlabel('Epoch')\n",
        "pyplot.legend(['Train', 'Val'], loc='upper left')\n",
        "pyplot.show()\n",
        "\n",
        "# Plot training & validation loss values\n",
        "pyplot.plot(history.history['loss'])\n",
        "pyplot.plot(history.history['val_loss'])\n",
        "pyplot.title('Model loss')\n",
        "pyplot.ylabel('Loss')\n",
        "pyplot.xlabel('Epoch')\n",
        "pyplot.legend(['Train', 'Val'], loc='upper left')\n",
        "pyplot.show()"
      ],
      "execution_count": 0,
      "outputs": [
        {
          "output_type": "display_data",
          "data": {
            "image/png": "[encoded data removed]",
            "text/plain": [
              "<Figure size 432x288 with 1 Axes>"
            ]
          },
          "metadata": {
            "tags": [],
            "needs_background": "light"
          }
        },
        {
          "output_type": "display_data",
          "data": {
            "image/png": "[encoded data removed]",
            "text/plain": [
              "<Figure size 432x288 with 1 Axes>"
            ]
          },
          "metadata": {
            "tags": [],
            "needs_background": "light"
          }
        }
      ]
    },
    {
      "cell_type": "code",
      "metadata": {
        "id": "MMDrvjTGzXO3",
        "colab_type": "code",
        "colab": {}
      },
      "source": [
        "#Saving the model\n",
        "model.save('fourth_model.h5')"
      ],
      "execution_count": 0,
      "outputs": []
    },
    {
      "cell_type": "code",
      "metadata": {
        "id": "OfN2kMH40NjR",
        "colab_type": "code",
        "outputId": "260cab70-928b-448c-89af-69306303b5f5",
        "colab": {
          "base_uri": "https://localhost:8080/",
          "height": 1000
        }
      },
      "source": [
        "# predicting images\n",
        "from keras.preprocessing import image\n",
        "airplane = 0 \n",
        "automobile=1\n",
        "bird=2\n",
        "cat=3\n",
        "deer=4\n",
        "dog=5\n",
        "frog=6\n",
        "horse=7\n",
        "ship=8\n",
        "truck=9\n",
        "for file in onlyfiles:\n",
        "    img = image.load_img(predict_dir_path+file, target_size=(32, 32))\n",
        "    x = image.img_to_array(img)\n",
        "    x = np.expand_dims(x, axis=0)\n",
        "    \n",
        "    images = np.vstack([x])\n",
        "    model = load_model('/content/Third_model.h5')\n",
        "    result = model.predict_classes(images, batch_size=10)\n",
        "\n",
        "    \n",
        "    \n",
        "    if result == 0:\n",
        "        print(file + \": \" + 'airplane')\n",
        "        airplane += 1\n",
        "    elif result==1:\n",
        "        print(file + \": \" + 'automobile')\n",
        "        automobile += 1\n",
        "    elif result==2:\n",
        "        print(file + \": \" + 'bird')\n",
        "        bird += 1\n",
        "    elif result==3:\n",
        "        print(file + \": \" + 'cat')\n",
        "        cat +=1\n",
        "    elif result==4:\n",
        "        print(file + \": \" + 'deer')\n",
        "        deer +=1\n",
        "    elif result==5:\n",
        "        print(file + \": \" + 'dog')\n",
        "        dog +=1\n",
        "    elif result==6:\n",
        "        print(file + \": \" + 'frog')\n",
        "        frog +=1\n",
        "    elif result==7:\n",
        "        print(file + \": \" + 'horse')\n",
        "        horse +=1\n",
        "    elif result==8:\n",
        "        print(file + \": \" + 'ship')\n",
        "        ship +=1\n",
        "    elif result==9:\n",
        "        print(file + \": \" + 'truck')\n",
        "        truck +=1\n",
        "    \n",
        "           \n",
        "print(\"Total airplane :\",airplane)\n",
        "print(\"Total automobile :\",automobile)\n",
        "print(\"Total bird :\",bird)\n",
        "print(\"Total cat :\",cat)\n",
        "print(\"Total deer :\",deer)\n",
        "print(\"Total dog :\",dog)\n",
        "print(\"Total frog :\",frog)\n",
        "print(\"Total horse :\",horse)\n",
        "print(\"Total ship :\",ship)\n",
        "print(\"Total truck :\",truck)"
      ],
      "execution_count": 0,
      "outputs": [
        {
          "output_type": "stream",
          "text": [
            "AEROPLANE1.jpeg: airplane\n",
            "AEROPLANE2.jpeg: airplane\n",
            "AEROPLANE3.jpeg: airplane\n",
            "AEROPLANE4.jpeg: airplane\n",
            "AUTOMOBILE5.jpeg: automobile\n",
            "AUTMOBILE6.jpeg: airplane\n",
            "AUTOMOBILE7.jpeg: automobile\n",
            "AUTOMOBILE8.jpeg: truck\n",
            "AUTOMOBILE9.jpeg: automobile\n",
            "BIRD (10).jpeg: bird\n",
            "BIRD (11).jpeg: bird\n",
            "BIRD (12).jpeg: airplane\n",
            "BIRD (13).jpeg: frog\n",
            "BIRD (14).jpeg: airplane\n",
            "BIRD (15).jpeg: bird\n",
            "BIRD (16).jpeg: bird\n",
            "CAT (17).jpeg: dog\n",
            "CAT (18).jpeg: cat\n",
            "CAT (19).jpeg: truck\n",
            "CAT (20).jpeg: frog\n",
            "CAT (21).jpeg: cat\n",
            "DEER (22).jpeg: deer\n",
            "DEER (23).jpeg: frog\n",
            "DEER (24).jpeg: frog\n",
            "DEER (25).jpeg: cat\n",
            "DEER (26).jpeg: frog\n",
            "DOG (27).jpeg: dog\n",
            "DOG (28).jpeg: dog\n",
            "DOG (29).jpeg: cat\n",
            "DOG (30).jpeg: frog\n",
            "DOG (31).jpeg: cat\n",
            "FROG (32).jpeg: frog\n",
            "FROG (33).jpeg: frog\n",
            "FROG (34).jpeg: frog\n",
            "FROG (35).jpeg: frog\n",
            "HORSE (36).jpeg: horse\n",
            "HORSE (37).jpeg: horse\n",
            "HORSE (38).jpeg: horse\n",
            "HORSE (39).jpeg: horse\n",
            "HORSE (40).jpeg: horse\n",
            "SHIP (41).jpeg: ship\n",
            "SHIP (42).jpeg: airplane\n",
            "TRUCK (49).jpeg: truck\n",
            "TRUCK (50).jpeg: truck\n",
            "TRUCK (48).jpeg: ship\n",
            "TRUCK (47).jpeg: truck\n",
            "SHIP (43).jpeg: ship\n",
            "SHIP (44).jpeg: ship\n",
            "SHIP (45).jpeg: ship\n",
            "SHIP (46).jpeg: automobile\n",
            "Total airplane : 8\n",
            "Total automobile : 5\n",
            "Total bird : 6\n",
            "Total cat : 8\n",
            "Total deer : 5\n",
            "Total dog : 8\n",
            "Total frog : 16\n",
            "Total horse : 12\n",
            "Total ship : 13\n",
            "Total truck : 14\n"
          ],
          "name": "stdout"
        }
      ]
    },
    {
      "cell_type": "code",
      "metadata": {
        "id": "if1ywmEVLT5N",
        "colab_type": "code",
        "colab": {}
      },
      "source": [
        ""
      ],
      "execution_count": 0,
      "outputs": []
    },
    {
      "cell_type": "markdown",
      "metadata": {
        "id": "LdgHoL_sLYBK",
        "colab_type": "text"
      },
      "source": [
        "#WEIGHT DECAY"
      ]
    },
    {
      "cell_type": "code",
      "metadata": {
        "id": "Zu6cOExYLT9j",
        "colab_type": "code",
        "colab": {}
      },
      "source": [
        "from keras.regularizers import l2\n",
        "# define cnn model\n",
        "def define_model():\n",
        "\tmodel = Sequential()\n",
        "\tmodel.add(Conv2D(32, (3, 3), activation='relu', kernel_initializer='he_uniform', padding='same', kernel_regularizer=l2(0.001), input_shape=(32, 32, 3)))\n",
        "\tmodel.add(Conv2D(32, (3, 3), activation='relu', kernel_initializer='he_uniform', padding='same', kernel_regularizer=l2(0.001)))\n",
        "\tmodel.add(MaxPooling2D((2, 2)))\n",
        "\tmodel.add(Conv2D(64, (3, 3), activation='relu', kernel_initializer='he_uniform', padding='same', kernel_regularizer=l2(0.001)))\n",
        "\tmodel.add(Conv2D(64, (3, 3), activation='relu', kernel_initializer='he_uniform', padding='same', kernel_regularizer=l2(0.001)))\n",
        "\tmodel.add(MaxPooling2D((2, 2)))\n",
        "\tmodel.add(Conv2D(128, (3, 3), activation='relu', kernel_initializer='he_uniform', padding='same', kernel_regularizer=l2(0.001)))\n",
        "\tmodel.add(Conv2D(128, (3, 3), activation='relu', kernel_initializer='he_uniform', padding='same', kernel_regularizer=l2(0.001)))\n",
        "\tmodel.add(MaxPooling2D((2, 2)))\n",
        "\tmodel.add(Flatten())\n",
        "\tmodel.add(Dense(128, activation='relu', kernel_initializer='he_uniform', kernel_regularizer=l2(0.001)))\n",
        "\tmodel.add(Dense(10, activation='softmax'))\n",
        "\t# compile model\n",
        "\topt = SGD(lr=0.001, momentum=0.9)\n",
        "\tmodel.compile(optimizer=opt, loss='categorical_crossentropy', metrics=['accuracy'])\n",
        "\treturn model"
      ],
      "execution_count": 0,
      "outputs": []
    },
    {
      "cell_type": "code",
      "metadata": {
        "id": "hivmbTC-LUJh",
        "colab_type": "code",
        "outputId": "752304a6-8dfb-4df8-f2f7-615aca61ae90",
        "colab": {
          "base_uri": "https://localhost:8080/",
          "height": 952
        }
      },
      "source": [
        "\tfrom keras.layers import Dropout\n",
        "\ttrainX, trainY, testX, testY = load_dataset()\n",
        "\t# prepare pixel data\n",
        "\ttrainX, testX = prep_pixels(trainX, testX)\n",
        "\t# define model\n",
        "\tmodel = define_model()\n",
        "\t# fit model\n",
        "\tfrom keras.callbacks import ModelCheckpoint, EarlyStopping\n",
        "checkpoint = ModelCheckpoint(\"vgg16_1.k4\", monitor='val_accuracy', verbose=1, save_best_only=True, save_weights_only=False, mode='auto', period=1)\n",
        "early = EarlyStopping(monitor='val_accuracy', min_delta=0, patience=0, verbose=1, mode='auto')\n",
        "\thistory = model.fit(trainX, trainY, epochs=30, batch_size=64, validation_data=(testX, testY), verbose=1, callbacks=[checkpoint,early])\n",
        "\t# evaluate model\n",
        "\t_, acc = model.evaluate(testX, testY, verbose=0)\n",
        "\tprint('> %.3f' % (acc * 100.0))"
      ],
      "execution_count": 0,
      "outputs": [
        {
          "output_type": "stream",
          "text": [
            "Train on 50000 samples, validate on 10000 samples\n",
            "Epoch 1/30\n",
            "50000/50000 [==============================] - 17s 342us/step - loss: 2.8931 - accuracy: 0.3695 - val_loss: 2.6190 - val_accuracy: 0.4692\n",
            "\n",
            "Epoch 00001: val_accuracy improved from -inf to 0.46920, saving model to vgg16_1.k4\n",
            "Epoch 2/30\n",
            "50000/50000 [==============================] - 12s 241us/step - loss: 2.5080 - accuracy: 0.5002 - val_loss: 2.4163 - val_accuracy: 0.5277\n",
            "\n",
            "Epoch 00002: val_accuracy improved from 0.46920 to 0.52770, saving model to vgg16_1.k4\n",
            "Epoch 3/30\n",
            "50000/50000 [==============================] - 12s 241us/step - loss: 2.3307 - accuracy: 0.5573 - val_loss: 2.2535 - val_accuracy: 0.5758\n",
            "\n",
            "Epoch 00003: val_accuracy improved from 0.52770 to 0.57580, saving model to vgg16_1.k4\n",
            "Epoch 4/30\n",
            "50000/50000 [==============================] - 12s 241us/step - loss: 2.1831 - accuracy: 0.6031 - val_loss: 2.1301 - val_accuracy: 0.6152\n",
            "\n",
            "Epoch 00004: val_accuracy improved from 0.57580 to 0.61520, saving model to vgg16_1.k4\n",
            "Epoch 5/30\n",
            "50000/50000 [==============================] - 12s 241us/step - loss: 2.0558 - accuracy: 0.6402 - val_loss: 2.0848 - val_accuracy: 0.6219\n",
            "\n",
            "Epoch 00005: val_accuracy improved from 0.61520 to 0.62190, saving model to vgg16_1.k4\n",
            "Epoch 6/30\n",
            "50000/50000 [==============================] - 12s 240us/step - loss: 1.9518 - accuracy: 0.6707 - val_loss: 1.9791 - val_accuracy: 0.6532\n",
            "\n",
            "Epoch 00006: val_accuracy improved from 0.62190 to 0.65320, saving model to vgg16_1.k4\n",
            "Epoch 7/30\n",
            "50000/50000 [==============================] - 12s 241us/step - loss: 1.8543 - accuracy: 0.6968 - val_loss: 1.9297 - val_accuracy: 0.6640\n",
            "\n",
            "Epoch 00007: val_accuracy improved from 0.65320 to 0.66400, saving model to vgg16_1.k4\n",
            "Epoch 8/30\n",
            "50000/50000 [==============================] - 12s 244us/step - loss: 1.7682 - accuracy: 0.7200 - val_loss: 1.8879 - val_accuracy: 0.6776\n",
            "\n",
            "Epoch 00008: val_accuracy improved from 0.66400 to 0.67760, saving model to vgg16_1.k4\n",
            "Epoch 9/30\n",
            "50000/50000 [==============================] - 12s 244us/step - loss: 1.6865 - accuracy: 0.7386 - val_loss: 1.8474 - val_accuracy: 0.6802\n",
            "\n",
            "Epoch 00009: val_accuracy improved from 0.67760 to 0.68020, saving model to vgg16_1.k4\n",
            "Epoch 10/30\n",
            "50000/50000 [==============================] - 12s 241us/step - loss: 1.6096 - accuracy: 0.7619 - val_loss: 1.8046 - val_accuracy: 0.6951\n",
            "\n",
            "Epoch 00010: val_accuracy improved from 0.68020 to 0.69510, saving model to vgg16_1.k4\n",
            "Epoch 11/30\n",
            "50000/50000 [==============================] - 12s 239us/step - loss: 1.5457 - accuracy: 0.7762 - val_loss: 1.7749 - val_accuracy: 0.6982\n",
            "\n",
            "Epoch 00011: val_accuracy improved from 0.69510 to 0.69820, saving model to vgg16_1.k4\n",
            "Epoch 12/30\n",
            "50000/50000 [==============================] - 12s 240us/step - loss: 1.4862 - accuracy: 0.7910 - val_loss: 1.7128 - val_accuracy: 0.7162\n",
            "\n",
            "Epoch 00012: val_accuracy improved from 0.69820 to 0.71620, saving model to vgg16_1.k4\n",
            "Epoch 13/30\n",
            "50000/50000 [==============================] - 12s 238us/step - loss: 1.4231 - accuracy: 0.8052 - val_loss: 1.7280 - val_accuracy: 0.7042\n",
            "\n",
            "Epoch 00013: val_accuracy did not improve from 0.71620\n",
            "Epoch 00013: early stopping\n",
            "> 70.420\n"
          ],
          "name": "stdout"
        }
      ]
    },
    {
      "cell_type": "code",
      "metadata": {
        "id": "4UeIm72pLUNh",
        "colab_type": "code",
        "outputId": "8dc8f29c-0d4f-481e-a195-22a0f5e5ff8f",
        "colab": {
          "base_uri": "https://localhost:8080/",
          "height": 573
        }
      },
      "source": [
        "# Plot training & validation accuracy values\n",
        "\n",
        "pyplot.plot(history.history['accuracy'])\n",
        "pyplot.plot(history.history['val_accuracy'])\n",
        "pyplot.title('Model accuracy')\n",
        "pyplot.ylabel('Accuracy')\n",
        "pyplot.xlabel('Epoch')\n",
        "pyplot.legend(['Train', 'Val'], loc='upper left')\n",
        "pyplot.show()\n",
        "\n",
        "# Plot training & validation loss values\n",
        "pyplot.plot(history.history['loss'])\n",
        "pyplot.plot(history.history['val_loss'])\n",
        "pyplot.title('Model loss')\n",
        "pyplot.ylabel('Loss')\n",
        "pyplot.xlabel('Epoch')\n",
        "pyplot.legend(['Train', 'Val'], loc='upper left')\n",
        "pyplot.show()"
      ],
      "execution_count": 0,
      "outputs": [
        {
          "output_type": "display_data",
          "data": {
            "image/png": "[encoded data removed]",
            "text/plain": [
              "<Figure size 432x288 with 1 Axes>"
            ]
          },
          "metadata": {
            "tags": [],
            "needs_background": "light"
          }
        },
        {
          "output_type": "display_data",
          "data": {
            "image/png": "[encoded data removed]",
            "text/plain": [
              "<Figure size 432x288 with 1 Axes>"
            ]
          },
          "metadata": {
            "tags": [],
            "needs_background": "light"
          }
        }
      ]
    },
    {
      "cell_type": "code",
      "metadata": {
        "id": "5ny2FAVtLUcm",
        "colab_type": "code",
        "colab": {}
      },
      "source": [
        "#Saving the model\n",
        "model.save('fifth_model.h5')"
      ],
      "execution_count": 0,
      "outputs": []
    },
    {
      "cell_type": "code",
      "metadata": {
        "id": "bdyK2h-uLUok",
        "colab_type": "code",
        "outputId": "366f135b-6877-4417-ed76-6d79c4a64b7a",
        "colab": {
          "base_uri": "https://localhost:8080/",
          "height": 1000
        }
      },
      "source": [
        "# predicting images\n",
        "from keras.preprocessing import image\n",
        "airplane = 0 \n",
        "automobile=1\n",
        "bird=2\n",
        "cat=3\n",
        "deer=4\n",
        "dog=5\n",
        "frog=6\n",
        "horse=7\n",
        "ship=8\n",
        "truck=9\n",
        "for file in onlyfiles:\n",
        "    img = image.load_img(predict_dir_path+file, target_size=(32, 32))\n",
        "    x = image.img_to_array(img)\n",
        "    x = np.expand_dims(x, axis=0)\n",
        "    \n",
        "    images = np.vstack([x])\n",
        "    model = load_model('/content/Third_model.h5')\n",
        "    result = model.predict_classes(images, batch_size=10)\n",
        "\n",
        "    \n",
        "    \n",
        "    if result == 0:\n",
        "        print(file + \": \" + 'airplane')\n",
        "        airplane += 1\n",
        "    elif result==1:\n",
        "        print(file + \": \" + 'automobile')\n",
        "        automobile += 1\n",
        "    elif result==2:\n",
        "        print(file + \": \" + 'bird')\n",
        "        bird += 1\n",
        "    elif result==3:\n",
        "        print(file + \": \" + 'cat')\n",
        "        cat +=1\n",
        "    elif result==4:\n",
        "        print(file + \": \" + 'deer')\n",
        "        deer +=1\n",
        "    elif result==5:\n",
        "        print(file + \": \" + 'dog')\n",
        "        dog +=1\n",
        "    elif result==6:\n",
        "        print(file + \": \" + 'frog')\n",
        "        frog +=1\n",
        "    elif result==7:\n",
        "        print(file + \": \" + 'horse')\n",
        "        horse +=1\n",
        "    elif result==8:\n",
        "        print(file + \": \" + 'ship')\n",
        "        ship +=1\n",
        "    elif result==9:\n",
        "        print(file + \": \" + 'truck')\n",
        "        truck +=1\n",
        "    \n",
        "           \n",
        "print(\"Total airplane :\",airplane)\n",
        "print(\"Total automobile :\",automobile)\n",
        "print(\"Total bird :\",bird)\n",
        "print(\"Total cat :\",cat)\n",
        "print(\"Total deer :\",deer)\n",
        "print(\"Total dog :\",dog)\n",
        "print(\"Total frog :\",frog)\n",
        "print(\"Total horse :\",horse)\n",
        "print(\"Total ship :\",ship)\n",
        "print(\"Total truck :\",truck)"
      ],
      "execution_count": 0,
      "outputs": [
        {
          "output_type": "stream",
          "text": [
            "AEROPLANE1.jpeg: airplane\n",
            "AEROPLANE2.jpeg: airplane\n",
            "AEROPLANE3.jpeg: airplane\n",
            "AEROPLANE4.jpeg: airplane\n",
            "AUTOMOBILE5.jpeg: automobile\n",
            "AUTMOBILE6.jpeg: airplane\n",
            "AUTOMOBILE7.jpeg: automobile\n",
            "AUTOMOBILE8.jpeg: truck\n",
            "AUTOMOBILE9.jpeg: automobile\n",
            "BIRD (10).jpeg: bird\n",
            "BIRD (11).jpeg: bird\n",
            "BIRD (12).jpeg: airplane\n",
            "BIRD (13).jpeg: frog\n",
            "BIRD (14).jpeg: airplane\n",
            "BIRD (15).jpeg: bird\n",
            "BIRD (16).jpeg: bird\n",
            "CAT (17).jpeg: dog\n",
            "CAT (18).jpeg: cat\n",
            "CAT (19).jpeg: truck\n",
            "CAT (20).jpeg: frog\n",
            "CAT (21).jpeg: cat\n",
            "DEER (22).jpeg: deer\n",
            "DEER (23).jpeg: frog\n",
            "DEER (24).jpeg: frog\n",
            "DEER (25).jpeg: cat\n",
            "DEER (26).jpeg: frog\n",
            "DOG (27).jpeg: dog\n",
            "DOG (28).jpeg: dog\n",
            "DOG (29).jpeg: cat\n",
            "DOG (30).jpeg: frog\n",
            "DOG (31).jpeg: cat\n",
            "FROG (32).jpeg: frog\n",
            "FROG (33).jpeg: frog\n",
            "FROG (34).jpeg: frog\n",
            "FROG (35).jpeg: frog\n",
            "HORSE (36).jpeg: horse\n",
            "HORSE (37).jpeg: horse\n",
            "HORSE (38).jpeg: horse\n",
            "HORSE (39).jpeg: horse\n",
            "HORSE (40).jpeg: horse\n",
            "SHIP (41).jpeg: ship\n",
            "SHIP (42).jpeg: airplane\n",
            "TRUCK (49).jpeg: truck\n",
            "TRUCK (50).jpeg: truck\n",
            "TRUCK (48).jpeg: ship\n",
            "TRUCK (47).jpeg: truck\n",
            "SHIP (43).jpeg: ship\n",
            "SHIP (44).jpeg: ship\n",
            "SHIP (45).jpeg: ship\n",
            "SHIP (46).jpeg: automobile\n",
            "Total airplane : 8\n",
            "Total automobile : 5\n",
            "Total bird : 6\n",
            "Total cat : 8\n",
            "Total deer : 5\n",
            "Total dog : 8\n",
            "Total frog : 16\n",
            "Total horse : 12\n",
            "Total ship : 13\n",
            "Total truck : 14\n"
          ],
          "name": "stdout"
        }
      ]
    },
    {
      "cell_type": "code",
      "metadata": {
        "id": "Mpbx58pPLT20",
        "colab_type": "code",
        "colab": {}
      },
      "source": [
        ""
      ],
      "execution_count": 0,
      "outputs": []
    },
    {
      "cell_type": "markdown",
      "metadata": {
        "id": "X6UVotO-zbVP",
        "colab_type": "text"
      },
      "source": [
        "#Data Augmentation"
      ]
    },
    {
      "cell_type": "code",
      "metadata": {
        "id": "fvTsD5urzb7D",
        "colab_type": "code",
        "colab": {}
      },
      "source": [
        "from keras.preprocessing.image import ImageDataGenerator\n",
        "# define cnn model\n",
        "def define_model():\n",
        "\tmodel = Sequential()\n",
        "\tmodel.add(Conv2D(32, (3, 3), activation='relu', kernel_initializer='he_uniform', padding='same', input_shape=(32, 32, 3)))\n",
        "\tmodel.add(Conv2D(32, (3, 3), activation='relu', kernel_initializer='he_uniform', padding='same'))\n",
        "\tmodel.add(MaxPooling2D((2, 2)))\n",
        "\tmodel.add(Conv2D(64, (3, 3), activation='relu', kernel_initializer='he_uniform', padding='same'))\n",
        "\tmodel.add(Conv2D(64, (3, 3), activation='relu', kernel_initializer='he_uniform', padding='same'))\n",
        "\tmodel.add(MaxPooling2D((2, 2)))\n",
        "\tmodel.add(Conv2D(128, (3, 3), activation='relu', kernel_initializer='he_uniform', padding='same'))\n",
        "\tmodel.add(Conv2D(128, (3, 3), activation='relu', kernel_initializer='he_uniform', padding='same'))\n",
        "\tmodel.add(MaxPooling2D((2, 2)))\n",
        "\tmodel.add(Flatten())\n",
        "\tmodel.add(Dense(128, activation='relu', kernel_initializer='he_uniform'))\n",
        "\tmodel.add(Dense(10, activation='softmax'))\n",
        "\t# compile model\n",
        "\topt = SGD(lr=0.001, momentum=0.9)\n",
        "\tmodel.compile(optimizer=opt, loss='categorical_crossentropy', metrics=['accuracy'])\n",
        "\treturn model"
      ],
      "execution_count": 0,
      "outputs": []
    },
    {
      "cell_type": "code",
      "metadata": {
        "id": "S5obBFRHzed6",
        "colab_type": "code",
        "outputId": "39202d63-da0f-402e-ef7a-b981640dc445",
        "colab": {
          "base_uri": "https://localhost:8080/",
          "height": 731
        }
      },
      "source": [
        "# load dataset\n",
        "trainX, trainY, testX, testY = load_dataset()\n",
        "# prepare pixel data\n",
        "trainX, testX = prep_pixels(trainX, testX)\n",
        "# define model\n",
        "model = define_model()\n",
        "# create data generator\n",
        "from keras.preprocessing.image import ImageDataGenerator\n",
        "datagen = ImageDataGenerator(width_shift_range=0.1, height_shift_range=0.1, horizontal_flip=True)\n",
        "# prepare iterator\n",
        "it_train = datagen.flow(trainX, trainY, batch_size=64)\n",
        "#fit model\n",
        "from keras.callbacks import ModelCheckpoint, EarlyStopping\n",
        "checkpoint = ModelCheckpoint(\"vgg16_1.k5\", monitor='val_accuracy', verbose=1, save_best_only=True, save_weights_only=False, mode='auto', period=1)\n",
        "early = EarlyStopping(monitor='val_accuracy', min_delta=0, patience=0, verbose=1, mode='auto')\n",
        "steps = int(trainX.shape[0] / 64)\n",
        "history = model.fit_generator(it_train, steps_per_epoch=steps, epochs=30, validation_data=(testX, testY), verbose=1,callbacks=[checkpoint,early])\n",
        "_, acc = model.evaluate(testX, testY, verbose=0)\n",
        "print('> %.3f' % (acc * 100.0))\n"
      ],
      "execution_count": 0,
      "outputs": [
        {
          "output_type": "stream",
          "text": [
            "Epoch 1/30\n",
            "781/781 [==============================] - 44s 56ms/step - loss: 1.8380 - accuracy: 0.3343 - val_loss: 1.6054 - val_accuracy: 0.4080\n",
            "\n",
            "Epoch 00001: val_accuracy improved from -inf to 0.40800, saving model to vgg16_1.k5\n",
            "Epoch 2/30\n",
            "781/781 [==============================] - 38s 48ms/step - loss: 1.5153 - accuracy: 0.4509 - val_loss: 1.3534 - val_accuracy: 0.5109\n",
            "\n",
            "Epoch 00002: val_accuracy improved from 0.40800 to 0.51090, saving model to vgg16_1.k5\n",
            "Epoch 3/30\n",
            "781/781 [==============================] - 38s 48ms/step - loss: 1.3691 - accuracy: 0.5099 - val_loss: 1.2019 - val_accuracy: 0.5666\n",
            "\n",
            "Epoch 00003: val_accuracy improved from 0.51090 to 0.56660, saving model to vgg16_1.k5\n",
            "Epoch 4/30\n",
            "781/781 [==============================] - 37s 48ms/step - loss: 1.2649 - accuracy: 0.5465 - val_loss: 1.1618 - val_accuracy: 0.5858\n",
            "\n",
            "Epoch 00004: val_accuracy improved from 0.56660 to 0.58580, saving model to vgg16_1.k5\n",
            "Epoch 5/30\n",
            "781/781 [==============================] - 37s 48ms/step - loss: 1.1894 - accuracy: 0.5770 - val_loss: 1.1227 - val_accuracy: 0.5956\n",
            "\n",
            "Epoch 00005: val_accuracy improved from 0.58580 to 0.59560, saving model to vgg16_1.k5\n",
            "Epoch 6/30\n",
            "781/781 [==============================] - 37s 47ms/step - loss: 1.1228 - accuracy: 0.6031 - val_loss: 1.0497 - val_accuracy: 0.6242\n",
            "\n",
            "Epoch 00006: val_accuracy improved from 0.59560 to 0.62420, saving model to vgg16_1.k5\n",
            "Epoch 7/30\n",
            "781/781 [==============================] - 37s 47ms/step - loss: 1.0691 - accuracy: 0.6217 - val_loss: 1.0599 - val_accuracy: 0.6263\n",
            "\n",
            "Epoch 00007: val_accuracy improved from 0.62420 to 0.62630, saving model to vgg16_1.k5\n",
            "Epoch 8/30\n",
            "781/781 [==============================] - 37s 47ms/step - loss: 1.0160 - accuracy: 0.6407 - val_loss: 0.9869 - val_accuracy: 0.6497\n",
            "\n",
            "Epoch 00008: val_accuracy improved from 0.62630 to 0.64970, saving model to vgg16_1.k5\n",
            "Epoch 9/30\n",
            "781/781 [==============================] - 37s 47ms/step - loss: 0.9822 - accuracy: 0.6564 - val_loss: 0.9016 - val_accuracy: 0.6850\n",
            "\n",
            "Epoch 00009: val_accuracy improved from 0.64970 to 0.68500, saving model to vgg16_1.k5\n",
            "Epoch 10/30\n",
            "781/781 [==============================] - 37s 47ms/step - loss: 0.9369 - accuracy: 0.6722 - val_loss: 0.9227 - val_accuracy: 0.6768\n",
            "\n",
            "Epoch 00010: val_accuracy did not improve from 0.68500\n",
            "Epoch 00010: early stopping\n",
            "> 67.680\n"
          ],
          "name": "stdout"
        }
      ]
    },
    {
      "cell_type": "code",
      "metadata": {
        "id": "xE4M8P6qzgnU",
        "colab_type": "code",
        "outputId": "1db9ac5a-16e6-4b43-e80f-33de3da5d082",
        "colab": {
          "base_uri": "https://localhost:8080/",
          "height": 573
        }
      },
      "source": [
        "# Plot training & validation accuracy values\n",
        "\n",
        "pyplot.plot(history.history['accuracy'])\n",
        "pyplot.plot(history.history['val_accuracy'])\n",
        "pyplot.title('Model accuracy')\n",
        "pyplot.ylabel('Accuracy')\n",
        "pyplot.xlabel('Epoch')\n",
        "pyplot.legend(['Train', 'Val'], loc='upper left')\n",
        "pyplot.show()\n",
        "\n",
        "# Plot training & validation loss values\n",
        "pyplot.plot(history.history['loss'])\n",
        "pyplot.plot(history.history['val_loss'])\n",
        "pyplot.title('Model loss')\n",
        "pyplot.ylabel('Loss')\n",
        "pyplot.xlabel('Epoch')\n",
        "pyplot.legend(['Train', 'Val'], loc='upper left')\n",
        "pyplot.show()"
      ],
      "execution_count": 0,
      "outputs": [
        {
          "output_type": "display_data",
          "data": {
            "image/png": "[encoded data removed]",
            "text/plain": [
              "<Figure size 432x288 with 1 Axes>"
            ]
          },
          "metadata": {
            "tags": [],
            "needs_background": "light"
          }
        },
        {
          "output_type": "display_data",
          "data": {
            "image/png": "[encoded data removed]",
            "text/plain": [
              "<Figure size 432x288 with 1 Axes>"
            ]
          },
          "metadata": {
            "tags": [],
            "needs_background": "light"
          }
        }
      ]
    },
    {
      "cell_type": "code",
      "metadata": {
        "id": "wjtPaBn00fq4",
        "colab_type": "code",
        "colab": {}
      },
      "source": [
        "#save the model\n",
        "model.save('Sixth_model.h5')"
      ],
      "execution_count": 0,
      "outputs": []
    },
    {
      "cell_type": "code",
      "metadata": {
        "id": "_GjWh2RW0gA6",
        "colab_type": "code",
        "outputId": "f9db32b5-9ca1-4559-b7f2-7f9e47e104bd",
        "colab": {
          "base_uri": "https://localhost:8080/",
          "height": 1000
        }
      },
      "source": [
        "# predicting images\n",
        "from keras.preprocessing import image\n",
        "airplane = 0 \n",
        "automobile=1\n",
        "bird=2\n",
        "cat=3\n",
        "deer=4\n",
        "dog=5\n",
        "frog=6\n",
        "horse=7\n",
        "ship=8\n",
        "truck=9\n",
        "for file in onlyfiles:\n",
        "    img = image.load_img(predict_dir_path+file, target_size=(32, 32))\n",
        "    x = image.img_to_array(img)\n",
        "    x = np.expand_dims(x, axis=0)\n",
        "    \n",
        "    images = np.vstack([x])\n",
        "    model = load_model('/content/fifth_model.h5')\n",
        "    result = model.predict_classes(images, batch_size=10)\n",
        "\n",
        "    \n",
        "    \n",
        "    if result == 0:\n",
        "        print(file + \": \" + 'airplane')\n",
        "        airplane += 1\n",
        "    elif result==1:\n",
        "        print(file + \": \" + 'automobile')\n",
        "        automobile += 1\n",
        "    elif result==2:\n",
        "        print(file + \": \" + 'bird')\n",
        "        bird += 1\n",
        "    elif result==3:\n",
        "        print(file + \": \" + 'cat')\n",
        "        cat +=1\n",
        "    elif result==4:\n",
        "        print(file + \": \" + 'deer')\n",
        "        deer +=1\n",
        "    elif result==5:\n",
        "        print(file + \": \" + 'dog')\n",
        "        dog +=1\n",
        "    elif result==6:\n",
        "        print(file + \": \" + 'frog')\n",
        "        frog +=1\n",
        "    elif result==7:\n",
        "        print(file + \": \" + 'horse')\n",
        "        horse +=1\n",
        "    elif result==8:\n",
        "        print(file + \": \" + 'ship')\n",
        "        ship +=1\n",
        "    elif result==9:\n",
        "        print(file + \": \" + 'truck')\n",
        "        truck +=1\n",
        "    \n",
        "           \n",
        "print(\"Total airplane :\",airplane)\n",
        "print(\"Total automobile :\",automobile)\n",
        "print(\"Total bird :\",bird)\n",
        "print(\"Total cat :\",cat)\n",
        "print(\"Total deer :\",deer)\n",
        "print(\"Total dog :\",dog)\n",
        "print(\"Total frog :\",frog)\n",
        "print(\"Total horse :\",horse)\n",
        "print(\"Total ship :\",ship)\n",
        "print(\"Total truck :\",truck)"
      ],
      "execution_count": 0,
      "outputs": [
        {
          "output_type": "stream",
          "text": [
            "AEROPLANE1.jpeg: airplane\n",
            "AEROPLANE2.jpeg: airplane\n",
            "AEROPLANE3.jpeg: airplane\n",
            "AEROPLANE4.jpeg: airplane\n",
            "AUTOMOBILE5.jpeg: automobile\n",
            "AUTMOBILE6.jpeg: automobile\n",
            "AUTOMOBILE7.jpeg: automobile\n",
            "AUTOMOBILE8.jpeg: truck\n",
            "AUTOMOBILE9.jpeg: automobile\n",
            "BIRD (10).jpeg: bird\n",
            "BIRD (11).jpeg: bird\n",
            "BIRD (12).jpeg: airplane\n",
            "BIRD (13).jpeg: bird\n",
            "BIRD (14).jpeg: automobile\n",
            "BIRD (15).jpeg: bird\n",
            "BIRD (16).jpeg: bird\n",
            "CAT (17).jpeg: dog\n",
            "CAT (18).jpeg: cat\n",
            "CAT (19).jpeg: truck\n",
            "CAT (20).jpeg: cat\n",
            "CAT (21).jpeg: cat\n",
            "DEER (22).jpeg: deer\n",
            "DEER (23).jpeg: cat\n",
            "DEER (24).jpeg: deer\n",
            "DEER (25).jpeg: dog\n",
            "DEER (26).jpeg: frog\n",
            "DOG (27).jpeg: cat\n",
            "DOG (28).jpeg: dog\n",
            "DOG (29).jpeg: cat\n",
            "DOG (30).jpeg: dog\n",
            "DOG (31).jpeg: cat\n",
            "FROG (32).jpeg: frog\n",
            "FROG (33).jpeg: dog\n",
            "FROG (34).jpeg: frog\n",
            "FROG (35).jpeg: frog\n",
            "HORSE (36).jpeg: horse\n",
            "HORSE (37).jpeg: horse\n",
            "HORSE (38).jpeg: horse\n",
            "HORSE (39).jpeg: horse\n",
            "HORSE (40).jpeg: horse\n",
            "SHIP (41).jpeg: ship\n",
            "SHIP (42).jpeg: airplane\n",
            "TRUCK (49).jpeg: automobile\n",
            "TRUCK (50).jpeg: automobile\n",
            "TRUCK (48).jpeg: automobile\n",
            "TRUCK (47).jpeg: truck\n",
            "SHIP (43).jpeg: ship\n",
            "SHIP (44).jpeg: ship\n",
            "SHIP (45).jpeg: ship\n",
            "SHIP (46).jpeg: ship\n",
            "Total airplane : 6\n",
            "Total automobile : 9\n",
            "Total bird : 7\n",
            "Total cat : 10\n",
            "Total deer : 6\n",
            "Total dog : 10\n",
            "Total frog : 10\n",
            "Total horse : 12\n",
            "Total ship : 13\n",
            "Total truck : 12\n"
          ],
          "name": "stdout"
        }
      ]
    },
    {
      "cell_type": "markdown",
      "metadata": {
        "id": "8XubRkz2OWwD",
        "colab_type": "text"
      },
      "source": [
        "#Variation of Dropout Regularization\n"
      ]
    },
    {
      "cell_type": "code",
      "metadata": {
        "id": "aXOakseyOXXp",
        "colab_type": "code",
        "colab": {}
      },
      "source": [
        "# define cnn model\n",
        "def define_model():\n",
        "\tmodel = Sequential()\n",
        "\tmodel.add(Conv2D(32, (3, 3), activation='relu', kernel_initializer='he_uniform', padding='same', input_shape=(32, 32, 3)))\n",
        "\tmodel.add(Conv2D(32, (3, 3), activation='relu', kernel_initializer='he_uniform', padding='same'))\n",
        "\tmodel.add(MaxPooling2D((2, 2)))\n",
        "\tmodel.add(Dropout(0.2))\n",
        "\tmodel.add(Conv2D(64, (3, 3), activation='relu', kernel_initializer='he_uniform', padding='same'))\n",
        "\tmodel.add(Conv2D(64, (3, 3), activation='relu', kernel_initializer='he_uniform', padding='same'))\n",
        "\tmodel.add(MaxPooling2D((2, 2)))\n",
        "\tmodel.add(Dropout(0.3))\n",
        "\tmodel.add(Conv2D(128, (3, 3), activation='relu', kernel_initializer='he_uniform', padding='same'))\n",
        "\tmodel.add(Conv2D(128, (3, 3), activation='relu', kernel_initializer='he_uniform', padding='same'))\n",
        "\tmodel.add(MaxPooling2D((2, 2)))\n",
        "\tmodel.add(Dropout(0.4))\n",
        "\tmodel.add(Flatten())\n",
        "\tmodel.add(Dense(128, activation='relu', kernel_initializer='he_uniform'))\n",
        "\tmodel.add(Dropout(0.5))\n",
        "\tmodel.add(Dense(10, activation='softmax'))\n",
        "\t# compile model\n",
        "\topt = SGD(lr=0.001, momentum=0.9)\n",
        "\tmodel.compile(optimizer=opt, loss='categorical_crossentropy', metrics=['accuracy'])\n",
        "\treturn model"
      ],
      "execution_count": 0,
      "outputs": []
    },
    {
      "cell_type": "code",
      "metadata": {
        "id": "-zb48iOXOXmN",
        "colab_type": "code",
        "colab": {}
      },
      "source": [
        "# load dataset\n",
        "trainX, trainY, testX, testY = load_dataset()\n",
        "# prepare pixel data\n",
        "trainX, testX = prep_pixels(trainX, testX)\n",
        "# define model\n",
        "model = define_model()\n",
        "# create data generator\n",
        "from keras.preprocessing.image import ImageDataGenerator\n",
        "datagen = ImageDataGenerator(width_shift_range=0.1, height_shift_range=0.1, horizontal_flip=True)\n",
        "# prepare iterator\n",
        "it_train = datagen.flow(trainX, trainY, batch_size=64)\n",
        "#fit model\n",
        "from keras.callbacks import ModelCheckpoint, EarlyStopping\n",
        "checkpoint = ModelCheckpoint(\"vgg16_1.k5\", monitor='val_accuracy', verbose=1, save_best_only=True, save_weights_only=False, mode='auto', period=1)\n",
        "early = EarlyStopping(monitor='val_accuracy', min_delta=0, patience=0, verbose=1, mode='auto')\n",
        "steps = int(trainX.shape[0] / 64)\n",
        "history = model.fit_generator(it_train, steps_per_epoch=steps, epochs=30, validation_data=(testX, testY), verbose=1,callbacks=[checkpoint,early])\n",
        "_, acc = model.evaluate(testX, testY, verbose=0)\n",
        "print('> %.3f' % (acc * 100.0))\n"
      ],
      "execution_count": 0,
      "outputs": []
    },
    {
      "cell_type": "code",
      "metadata": {
        "id": "UwcEOnMbOXtl",
        "colab_type": "code",
        "colab": {}
      },
      "source": [
        "# Plot training & validation accuracy values\n",
        "\n",
        "pyplot.plot(history.history['accuracy'])\n",
        "pyplot.plot(history.history['val_accuracy'])\n",
        "pyplot.title('Model accuracy')\n",
        "pyplot.ylabel('Accuracy')\n",
        "pyplot.xlabel('Epoch')\n",
        "pyplot.legend(['Train', 'Val'], loc='upper left')\n",
        "pyplot.show()\n",
        "\n",
        "# Plot training & validation loss values\n",
        "pyplot.plot(history.history['loss'])\n",
        "pyplot.plot(history.history['val_loss'])\n",
        "pyplot.title('Model loss')\n",
        "pyplot.ylabel('Loss')\n",
        "pyplot.xlabel('Epoch')\n",
        "pyplot.legend(['Train', 'Val'], loc='upper left')\n",
        "pyplot.show()"
      ],
      "execution_count": 0,
      "outputs": []
    },
    {
      "cell_type": "code",
      "metadata": {
        "id": "Exy9TRWkOXVS",
        "colab_type": "code",
        "colab": {}
      },
      "source": [
        "#save the model\n",
        "model.save('seventh_model.h5')"
      ],
      "execution_count": 0,
      "outputs": []
    },
    {
      "cell_type": "code",
      "metadata": {
        "id": "pAjX-7CmOXRv",
        "colab_type": "code",
        "colab": {}
      },
      "source": [
        "# predicting images\n",
        "from keras.preprocessing import image\n",
        "airplane = 0 \n",
        "automobile=1\n",
        "bird=2\n",
        "cat=3\n",
        "deer=4\n",
        "dog=5\n",
        "frog=6\n",
        "horse=7\n",
        "ship=8\n",
        "truck=9\n",
        "for file in onlyfiles:\n",
        "    img = image.load_img(predict_dir_path+file, target_size=(32, 32))\n",
        "    x = image.img_to_array(img)\n",
        "    x = np.expand_dims(x, axis=0)\n",
        "    \n",
        "    images = np.vstack([x])\n",
        "    model = load_model('/content/fifth_model.h5')\n",
        "    result = model.predict_classes(images, batch_size=10)\n",
        "\n",
        "    \n",
        "    \n",
        "    if result == 0:\n",
        "        print(file + \": \" + 'airplane')\n",
        "        airplane += 1\n",
        "    elif result==1:\n",
        "        print(file + \": \" + 'automobile')\n",
        "        automobile += 1\n",
        "    elif result==2:\n",
        "        print(file + \": \" + 'bird')\n",
        "        bird += 1\n",
        "    elif result==3:\n",
        "        print(file + \": \" + 'cat')\n",
        "        cat +=1\n",
        "    elif result==4:\n",
        "        print(file + \": \" + 'deer')\n",
        "        deer +=1\n",
        "    elif result==5:\n",
        "        print(file + \": \" + 'dog')\n",
        "        dog +=1\n",
        "    elif result==6:\n",
        "        print(file + \": \" + 'frog')\n",
        "        frog +=1\n",
        "    elif result==7:\n",
        "        print(file + \": \" + 'horse')\n",
        "        horse +=1\n",
        "    elif result==8:\n",
        "        print(file + \": \" + 'ship')\n",
        "        ship +=1\n",
        "    elif result==9:\n",
        "        print(file + \": \" + 'truck')\n",
        "        truck +=1\n",
        "    \n",
        "           \n",
        "print(\"Total airplane :\",airplane)\n",
        "print(\"Total automobile :\",automobile)\n",
        "print(\"Total bird :\",bird)\n",
        "print(\"Total cat :\",cat)\n",
        "print(\"Total deer :\",deer)\n",
        "print(\"Total dog :\",dog)\n",
        "print(\"Total frog :\",frog)\n",
        "print(\"Total horse :\",horse)\n",
        "print(\"Total ship :\",ship)\n",
        "print(\"Total truck :\",truck)"
      ],
      "execution_count": 0,
      "outputs": []
    },
    {
      "cell_type": "code",
      "metadata": {
        "id": "MGMJrTGXOXOd",
        "colab_type": "code",
        "colab": {}
      },
      "source": [
        ""
      ],
      "execution_count": 0,
      "outputs": []
    },
    {
      "cell_type": "code",
      "metadata": {
        "id": "Jj9_M3HmOXMT",
        "colab_type": "code",
        "colab": {}
      },
      "source": [
        ""
      ],
      "execution_count": 0,
      "outputs": []
    },
    {
      "cell_type": "markdown",
      "metadata": {
        "id": "C-WMKwlqz5MP",
        "colab_type": "text"
      },
      "source": [
        "#Dropout and Data Augmentation"
      ]
    },
    {
      "cell_type": "code",
      "metadata": {
        "id": "hi1dch0lz6SS",
        "colab_type": "code",
        "colab": {}
      },
      "source": [
        "# define cnn model\n",
        "def define_model():\n",
        "  model = Sequential()\n",
        "  model.add(Conv2D(32, (3, 3), activation='relu', kernel_initializer='he_uniform', padding='same', input_shape=(32, 32, 3)))\n",
        "  model.add(Conv2D(32, (3, 3), activation='relu', kernel_initializer='he_uniform', padding='same'))\n",
        "  model.add(MaxPooling2D((2, 2)))\n",
        "  model.add(Dropout(0.2))\n",
        "  model.add(Conv2D(64, (3, 3), activation='relu', kernel_initializer='he_uniform', padding='same'))\n",
        "  model.add(Conv2D(64, (3, 3), activation='relu', kernel_initializer='he_uniform', padding='same'))\n",
        "  model.add(MaxPooling2D((2, 2)))\n",
        "  model.add(Dropout(0.2))\n",
        "  model.add(Conv2D(128, (3, 3), activation='relu', kernel_initializer='he_uniform', padding='same'))\n",
        "  model.add(Conv2D(128, (3, 3), activation='relu', kernel_initializer='he_uniform', padding='same'))\n",
        "  model.add(MaxPooling2D((2, 2)))\n",
        "  model.add(Dropout(0.2))\n",
        "  \n",
        "  \n",
        "  # example output part of the model\n",
        "  model.add(Flatten())\n",
        "  model.add(Dense(128, activation='relu', kernel_initializer='he_uniform'))\n",
        "  model.add(Dense(10, activation='softmax'))\n",
        "\n",
        "  # compile model\n",
        "  opt = SGD(lr=0.001, momentum=0.9)\n",
        "  model.compile(optimizer=opt, loss='categorical_crossentropy', metrics=['accuracy'])\n",
        "  return model"
      ],
      "execution_count": 0,
      "outputs": []
    },
    {
      "cell_type": "code",
      "metadata": {
        "id": "zPNwbN582KlT",
        "colab_type": "code",
        "colab": {}
      },
      "source": [
        "# load dataset\n",
        "trainX, trainY, testX, testY = load_dataset()\n",
        "# prepare pixel data\n",
        "trainX, testX = prep_pixels(trainX, testX)\n",
        "# define model\n",
        "model = define_model()\n",
        "# create data generator\n",
        "datagen = ImageDataGenerator(width_shift_range=0.1, height_shift_range=0.1, horizontal_flip=True)\n",
        "# prepare iterator\n",
        "it_train = datagen.flow(trainX, trainY, batch_size=64)\n",
        "#fit model\n",
        "from keras.callbacks import ModelCheckpoint, EarlyStopping\n",
        "checkpoint = ModelCheckpoint(\"vgg16_1.k6\", monitor='val_accuracy', verbose=1, save_best_only=True, save_weights_only=False, mode='auto', period=1)\n",
        "early = EarlyStopping(monitor='val_accuracy', min_delta=0, patience=0, verbose=1, mode='auto')\n",
        "steps = int(trainX.shape[0] / 64)\n",
        "history = model.fit_generator(it_train, steps_per_epoch=steps, epochs=30, validation_data=(testX, testY), verbose=1, callbacks=[checkpoint, early])\n",
        "_, acc = model.evaluate(testX, testY, verbose=0)\n",
        "print('> %.3f' % (acc * 100.0))"
      ],
      "execution_count": 0,
      "outputs": []
    },
    {
      "cell_type": "code",
      "metadata": {
        "id": "GlaSO2iT2Q6Y",
        "colab_type": "code",
        "colab": {}
      },
      "source": [
        "# Plot training & validation accuracy values\n",
        "\n",
        "pyplot.plot(history.history['accuracy'])\n",
        "pyplot.plot(history.history['val_accuracy'])\n",
        "pyplot.title('Model accuracy')\n",
        "pyplot.ylabel('Accuracy')\n",
        "pyplot.xlabel('Epoch')\n",
        "pyplot.legend(['Train', 'Val'], loc='upper left')\n",
        "pyplot.show()\n",
        "\n",
        "# Plot training & validation loss values\n",
        "pyplot.plot(history.history['loss'])\n",
        "pyplot.plot(history.history['val_loss'])\n",
        "pyplot.title('Model loss')\n",
        "pyplot.ylabel('Loss')\n",
        "pyplot.xlabel('Epoch')\n",
        "pyplot.legend(['Train', 'Val'], loc='upper left')\n",
        "pyplot.show()"
      ],
      "execution_count": 0,
      "outputs": []
    },
    {
      "cell_type": "code",
      "metadata": {
        "id": "3gSxOMv_2VGW",
        "colab_type": "code",
        "colab": {}
      },
      "source": [
        "#save the model\n",
        "model.save('Eight_model.h5')"
      ],
      "execution_count": 0,
      "outputs": []
    },
    {
      "cell_type": "code",
      "metadata": {
        "id": "JkKVv_Lb1GKy",
        "colab_type": "code",
        "colab": {}
      },
      "source": [
        "# predicting images\n",
        "from keras.preprocessing import image\n",
        "airplane = 0 \n",
        "automobile=1\n",
        "bird=2\n",
        "cat=3\n",
        "deer=4\n",
        "dog=5\n",
        "frog=6\n",
        "horse=7\n",
        "ship=8\n",
        "truck=9\n",
        "for file in onlyfiles:\n",
        "    img = image.load_img(predict_dir_path+file, target_size=(32, 32))\n",
        "    x = image.img_to_array(img)\n",
        "    x = np.expand_dims(x, axis=0)\n",
        "    \n",
        "    images = np.vstack([x])\n",
        "    model = load_model('/content/sixth_model.h5')\n",
        "    result = model.predict_classes(images, batch_size=10)\n",
        "\n",
        "    \n",
        "    \n",
        "    if result == 0:\n",
        "        print(file + \": \" + 'airplane')\n",
        "        airplane += 1\n",
        "    elif result==1:\n",
        "        print(file + \": \" + 'automobile')\n",
        "        automobile += 1\n",
        "    elif result==2:\n",
        "        print(file + \": \" + 'bird')\n",
        "        bird += 1\n",
        "    elif result==3:\n",
        "        print(file + \": \" + 'cat')\n",
        "        cat +=1\n",
        "    elif result==4:\n",
        "        print(file + \": \" + 'deer')\n",
        "        deer +=1\n",
        "    elif result==5:\n",
        "        print(file + \": \" + 'dog')\n",
        "        dog +=1\n",
        "    elif result==6:\n",
        "        print(file + \": \" + 'frog')\n",
        "        frog +=1\n",
        "    elif result==7:\n",
        "        print(file + \": \" + 'horse')\n",
        "        horse +=1\n",
        "    elif result==8:\n",
        "        print(file + \": \" + 'ship')\n",
        "        ship +=1\n",
        "    elif result==9:\n",
        "        print(file + \": \" + 'truck')\n",
        "        truck +=1\n",
        "    \n",
        "           \n",
        "print(\"Total airplane :\",airplane)\n",
        "print(\"Total automobile :\",automobile)\n",
        "print(\"Total bird :\",bird)\n",
        "print(\"Total cat :\",cat)\n",
        "print(\"Total deer :\",deer)\n",
        "print(\"Total dog :\",dog)\n",
        "print(\"Total frog :\",frog)\n",
        "print(\"Total horse :\",horse)\n",
        "print(\"Total ship :\",ship)\n",
        "print(\"Total truck :\",truck)"
      ],
      "execution_count": 0,
      "outputs": []
    },
    {
      "cell_type": "markdown",
      "metadata": {
        "id": "_kCh4V7d2YYH",
        "colab_type": "text"
      },
      "source": [
        "#Dropout and Data Augmentation and Batch Normalization"
      ]
    },
    {
      "cell_type": "code",
      "metadata": {
        "id": "JllNrDEw2Y-H",
        "colab_type": "code",
        "colab": {}
      },
      "source": [
        "# define cnn model\n",
        "def define_model():\n",
        "\tmodel = Sequential()\n",
        "\tmodel.add(Conv2D(32, (3, 3), activation='relu', kernel_initializer='he_uniform', padding='same', input_shape=(32, 32, 3)))\n",
        "\tmodel.add(BatchNormalization())\n",
        "\tmodel.add(Conv2D(32, (3, 3), activation='relu', kernel_initializer='he_uniform', padding='same'))\n",
        "\tmodel.add(BatchNormalization())\n",
        "\tmodel.add(MaxPooling2D((2, 2)))\n",
        "\tmodel.add(Dropout(0.2))\n",
        "\tmodel.add(Conv2D(64, (3, 3), activation='relu', kernel_initializer='he_uniform', padding='same'))\n",
        "\tmodel.add(BatchNormalization())\n",
        "\tmodel.add(Conv2D(64, (3, 3), activation='relu', kernel_initializer='he_uniform', padding='same'))\n",
        "\tmodel.add(BatchNormalization())\n",
        "\tmodel.add(MaxPooling2D((2, 2)))\n",
        "\tmodel.add(Dropout(0.3))\n",
        "\tmodel.add(Conv2D(128, (3, 3), activation='relu', kernel_initializer='he_uniform', padding='same'))\n",
        "\tmodel.add(BatchNormalization())\n",
        "\tmodel.add(Conv2D(128, (3, 3), activation='relu', kernel_initializer='he_uniform', padding='same'))\n",
        "\tmodel.add(BatchNormalization())\n",
        "\tmodel.add(MaxPooling2D((2, 2)))\n",
        "\tmodel.add(Dropout(0.4))\n",
        "\tmodel.add(Flatten())\n",
        "\tmodel.add(Dense(128, activation='relu', kernel_initializer='he_uniform'))\n",
        "\tmodel.add(BatchNormalization())\n",
        "\tmodel.add(Dropout(0.5))\n",
        "\tmodel.add(Dense(10, activation='softmax'))\n",
        "\t# compile model\n",
        "\topt = SGD(lr=0.001, momentum=0.9)\n",
        "\tmodel.compile(optimizer=opt, loss='categorical_crossentropy', metrics=['accuracy'])\n",
        "\treturn model"
      ],
      "execution_count": 0,
      "outputs": []
    },
    {
      "cell_type": "code",
      "metadata": {
        "id": "wfx-X_meGYtb",
        "colab_type": "code",
        "colab": {}
      },
      "source": [
        ""
      ],
      "execution_count": 0,
      "outputs": []
    },
    {
      "cell_type": "code",
      "metadata": {
        "id": "gxf-8iF82aZ7",
        "colab_type": "code",
        "colab": {}
      },
      "source": [
        "from keras.layers import BatchNormalization\n",
        "# load dataset\n",
        "trainX, trainY, testX, testY = load_dataset()\n",
        "# prepare pixel data\n",
        "trainX, testX = prep_pixels(trainX, testX)\n",
        "# define model\n",
        "model = define_model()\n",
        "# create data generator\n",
        "datagen = ImageDataGenerator(width_shift_range=0.1, height_shift_range=0.1, horizontal_flip=True)\n",
        "# prepare iterator\n",
        "it_train = datagen.flow(trainX, trainY, batch_size=64)\n",
        "#fit model\n",
        "from keras.callbacks import ModelCheckpoint, EarlyStopping\n",
        "checkpoint = ModelCheckpoint(\"vgg16_1.k7\", monitor='val_accuracy', verbose=1, save_best_only=True, save_weights_only=False, mode='auto', period=1)\n",
        "early = EarlyStopping(monitor='val_accuracy', min_delta=0, patience=0, verbose=1, mode='auto')\n",
        "steps = int(trainX.shape[0] / 64)\n",
        "history = model.fit_generator(it_train, steps_per_epoch=steps, epochs=30, validation_data=(testX, testY), verbose=1, callbacks=[checkpoint,early])\n",
        "_, acc = model.evaluate(testX, testY, verbose=0)\n",
        "print('> %.3f' % (acc * 100.0))"
      ],
      "execution_count": 0,
      "outputs": []
    },
    {
      "cell_type": "code",
      "metadata": {
        "id": "Ec_d1A5P2cdv",
        "colab_type": "code",
        "colab": {}
      },
      "source": [
        "# Plot training & validation accuracy values\n",
        "\n",
        "pyplot.plot(history.history['accuracy'])\n",
        "pyplot.plot(history.history['val_accuracy'])\n",
        "pyplot.title('Model accuracy')\n",
        "pyplot.ylabel('Accuracy')\n",
        "pyplot.xlabel('Epoch')\n",
        "pyplot.legend(['Train', 'Val'], loc='upper left')\n",
        "pyplot.show()\n",
        "\n",
        "# Plot training & validation loss values\n",
        "pyplot.plot(history.history['loss'])\n",
        "pyplot.plot(history.history['val_loss'])\n",
        "pyplot.title('Model loss')\n",
        "pyplot.ylabel('Loss')\n",
        "pyplot.xlabel('Epoch')\n",
        "pyplot.legend(['Train', 'Val'], loc='upper left')\n",
        "pyplot.show()"
      ],
      "execution_count": 0,
      "outputs": []
    },
    {
      "cell_type": "code",
      "metadata": {
        "id": "uJJGJx-F2e_U",
        "colab_type": "code",
        "colab": {}
      },
      "source": [
        "# save model\n",
        "\tmodel.save('Ninth_model.h5')"
      ],
      "execution_count": 0,
      "outputs": []
    },
    {
      "cell_type": "code",
      "metadata": {
        "id": "ftZ41xSH2Nr6",
        "colab_type": "code",
        "colab": {}
      },
      "source": [
        "# predicting images\n",
        "from keras.preprocessing import image\n",
        "airplane = 0 \n",
        "automobile=1\n",
        "bird=2\n",
        "cat=3\n",
        "deer=4\n",
        "dog=5\n",
        "frog=6\n",
        "horse=7\n",
        "ship=8\n",
        "truck=9\n",
        "for file in onlyfiles:\n",
        "    img = image.load_img(predict_dir_path+file, target_size=(32, 32))\n",
        "    x = image.img_to_array(img)\n",
        "    x = np.expand_dims(x, axis=0)\n",
        "    \n",
        "    images = np.vstack([x])\n",
        "    model = load_model('/content/Seventh_model.h5')\n",
        "    result = model.predict_classes(images, batch_size=10)\n",
        "\n",
        "    \n",
        "    \n",
        "    if result == 0:\n",
        "        print(file + \": \" + 'airplane')\n",
        "        airplane += 1\n",
        "    elif result==1:\n",
        "        print(file + \": \" + 'automobile')\n",
        "        automobile += 1\n",
        "    elif result==2:\n",
        "        print(file + \": \" + 'bird')\n",
        "        bird += 1\n",
        "    elif result==3:\n",
        "        print(file + \": \" + 'cat')\n",
        "        cat +=1\n",
        "    elif result==4:\n",
        "        print(file + \": \" + 'deer')\n",
        "        deer +=1\n",
        "    elif result==5:\n",
        "        print(file + \": \" + 'dog')\n",
        "        dog +=1\n",
        "    elif result==6:\n",
        "        print(file + \": \" + 'frog')\n",
        "        frog +=1\n",
        "    elif result==7:\n",
        "        print(file + \": \" + 'horse')\n",
        "        horse +=1\n",
        "    elif result==8:\n",
        "        print(file + \": \" + 'ship')\n",
        "        ship +=1\n",
        "    elif result==9:\n",
        "        print(file + \": \" + 'truck')\n",
        "        truck +=1\n",
        "    \n",
        "           \n",
        "print(\"Total airplane :\",airplane)\n",
        "print(\"Total automobile :\",automobile)\n",
        "print(\"Total bird :\",bird)\n",
        "print(\"Total cat :\",cat)\n",
        "print(\"Total deer :\",deer)\n",
        "print(\"Total dog :\",dog)\n",
        "print(\"Total frog :\",frog)\n",
        "print(\"Total horse :\",horse)\n",
        "print(\"Total ship :\",ship)\n",
        "print(\"Total truck :\",truck)"
      ],
      "execution_count": 0,
      "outputs": []
    },
    {
      "cell_type": "code",
      "metadata": {
        "id": "_-PCiQeK2V6K",
        "colab_type": "code",
        "colab": {}
      },
      "source": [
        ""
      ],
      "execution_count": 0,
      "outputs": []
    }
  ]
}